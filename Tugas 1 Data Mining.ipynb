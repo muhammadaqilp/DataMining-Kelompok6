{
  "nbformat": 4,
  "nbformat_minor": 0,
  "metadata": {
    "colab": {
      "name": "Tugas Rapih.ipynb",
      "provenance": [],
      "collapsed_sections": [],
      "toc_visible": true
    },
    "kernelspec": {
      "name": "python3",
      "display_name": "Python 3"
    },
    "language_info": {
      "name": "python"
    }
  },
  "cells": [
    {
      "cell_type": "code",
      "metadata": {
        "id": "N6t65Kqvg4c2"
      },
      "source": [
        "#IMPORT LIBRARY yang dibutuhkan\n",
        "import pandas as pd\n",
        "import numpy as np\n",
        "import matplotlib.pyplot as plt\n",
        "import seaborn as sns"
      ],
      "execution_count": 1,
      "outputs": []
    },
    {
      "cell_type": "markdown",
      "metadata": {
        "id": "jSrfB7eigzm_"
      },
      "source": [
        "#Baca Data"
      ]
    },
    {
      "cell_type": "code",
      "metadata": {
        "colab": {
          "base_uri": "https://localhost:8080/",
          "height": 615
        },
        "id": "qFrgSO6_gwHF",
        "outputId": "79f13967-885f-4343-f022-ace7a7ef6da5"
      },
      "source": [
        "df_rumah = pd.read_csv('https://raw.githubusercontent.com/muhammadaqilp/DataMining-Kelompok6/main/Kelompok%206%20-%20Mining.csv')\n",
        "df_rumah.head()"
      ],
      "execution_count": 2,
      "outputs": [
        {
          "output_type": "execute_result",
          "data": {
            "text/html": [
              "<div>\n",
              "<style scoped>\n",
              "    .dataframe tbody tr th:only-of-type {\n",
              "        vertical-align: middle;\n",
              "    }\n",
              "\n",
              "    .dataframe tbody tr th {\n",
              "        vertical-align: top;\n",
              "    }\n",
              "\n",
              "    .dataframe thead th {\n",
              "        text-align: right;\n",
              "    }\n",
              "</style>\n",
              "<table border=\"1\" class=\"dataframe\">\n",
              "  <thead>\n",
              "    <tr style=\"text-align: right;\">\n",
              "      <th></th>\n",
              "      <th>No</th>\n",
              "      <th>Tgl_Iklan</th>\n",
              "      <th>url</th>\n",
              "      <th>harga</th>\n",
              "      <th>Kota</th>\n",
              "      <th>LT</th>\n",
              "      <th>LB</th>\n",
              "      <th>KT</th>\n",
              "      <th>KM</th>\n",
              "      <th>KTP</th>\n",
              "      <th>KMP</th>\n",
              "      <th>carport</th>\n",
              "      <th>garasi</th>\n",
              "      <th>listrik</th>\n",
              "      <th>surat</th>\n",
              "      <th>judul</th>\n",
              "      <th>deskripsi</th>\n",
              "    </tr>\n",
              "  </thead>\n",
              "  <tbody>\n",
              "    <tr>\n",
              "      <th>0</th>\n",
              "      <td>1</td>\n",
              "      <td>22/03/2021</td>\n",
              "      <td>https://www.rumah123.com/properti/surabaya/hos...</td>\n",
              "      <td>2800000000</td>\n",
              "      <td>Surabaya</td>\n",
              "      <td>170</td>\n",
              "      <td>210</td>\n",
              "      <td>5</td>\n",
              "      <td>3</td>\n",
              "      <td>1.0</td>\n",
              "      <td>1.0</td>\n",
              "      <td>2.0</td>\n",
              "      <td>NaN</td>\n",
              "      <td>3500.0</td>\n",
              "      <td>HGB</td>\n",
              "      <td>Royal Residence Wiyung SPESIAL K.Tidur 5+1 LT....</td>\n",
              "      <td>Royal Residence Wiyung SPESIAL K.Tidur 5+1 LT....</td>\n",
              "    </tr>\n",
              "    <tr>\n",
              "      <th>1</th>\n",
              "      <td>2</td>\n",
              "      <td>24/03/2021</td>\n",
              "      <td>https://www.rumah.com/listing-properti/dijual-...</td>\n",
              "      <td>2550000000</td>\n",
              "      <td>Surabaya</td>\n",
              "      <td>210</td>\n",
              "      <td>160</td>\n",
              "      <td>4</td>\n",
              "      <td>3</td>\n",
              "      <td>NaN</td>\n",
              "      <td>NaN</td>\n",
              "      <td>NaN</td>\n",
              "      <td>NaN</td>\n",
              "      <td>NaN</td>\n",
              "      <td>HGB</td>\n",
              "      <td>Villa Taman Telaga 1 - Murah, Hitung Tanah Saj...</td>\n",
              "      <td>Villa Taman Telaga 1 - Murah, Hitung Tanah, De...</td>\n",
              "    </tr>\n",
              "    <tr>\n",
              "      <th>2</th>\n",
              "      <td>3</td>\n",
              "      <td>25/03/2021</td>\n",
              "      <td>https://www.rumah123.com/properti/surabaya/hos...</td>\n",
              "      <td>2000000000</td>\n",
              "      <td>Surabaya</td>\n",
              "      <td>150</td>\n",
              "      <td>160</td>\n",
              "      <td>4</td>\n",
              "      <td>3</td>\n",
              "      <td>1.0</td>\n",
              "      <td>1.0</td>\n",
              "      <td>0.0</td>\n",
              "      <td>0.0</td>\n",
              "      <td>2200.0</td>\n",
              "      <td>SHM</td>\n",
              "      <td>Rumah Baru 2 Lantai Di Wiyung Surabaya</td>\n",
              "      <td>Rumah Baru 2 Lantai Di Wiyung Surabaya\\nSalam,...</td>\n",
              "    </tr>\n",
              "    <tr>\n",
              "      <th>3</th>\n",
              "      <td>4</td>\n",
              "      <td>30/03/2021</td>\n",
              "      <td>https://www.rumah.com/listing-properti/dijual-...</td>\n",
              "      <td>22500000000</td>\n",
              "      <td>Surabaya</td>\n",
              "      <td>865</td>\n",
              "      <td>800</td>\n",
              "      <td>6</td>\n",
              "      <td>6</td>\n",
              "      <td>2.0</td>\n",
              "      <td>NaN</td>\n",
              "      <td>4.0</td>\n",
              "      <td>2.0</td>\n",
              "      <td>7700.0</td>\n",
              "      <td>SHM</td>\n",
              "      <td>Darmo Permai</td>\n",
              "      <td>Rumah Mewah Komersil Di Raya Darmo Permai\\nHIT...</td>\n",
              "    </tr>\n",
              "    <tr>\n",
              "      <th>4</th>\n",
              "      <td>5</td>\n",
              "      <td>01/04/2021</td>\n",
              "      <td>https://www.rumah123.com/properti/jakarta-pusa...</td>\n",
              "      <td>10900000</td>\n",
              "      <td>Surabaya</td>\n",
              "      <td>120</td>\n",
              "      <td>400</td>\n",
              "      <td>3</td>\n",
              "      <td>3</td>\n",
              "      <td>1.0</td>\n",
              "      <td>1.0</td>\n",
              "      <td>0.0</td>\n",
              "      <td>0.0</td>\n",
              "      <td>13200.0</td>\n",
              "      <td>SHM</td>\n",
              "      <td>Rumah Minimalis Townhouse Aikonika Menteng Jak...</td>\n",
              "      <td>Rumah Minimalis Townhouse Aikonika Menteng Jak...</td>\n",
              "    </tr>\n",
              "  </tbody>\n",
              "</table>\n",
              "</div>"
            ],
            "text/plain": [
              "   No  ...                                          deskripsi\n",
              "0   1  ...  Royal Residence Wiyung SPESIAL K.Tidur 5+1 LT....\n",
              "1   2  ...  Villa Taman Telaga 1 - Murah, Hitung Tanah, De...\n",
              "2   3  ...  Rumah Baru 2 Lantai Di Wiyung Surabaya\\nSalam,...\n",
              "3   4  ...  Rumah Mewah Komersil Di Raya Darmo Permai\\nHIT...\n",
              "4   5  ...  Rumah Minimalis Townhouse Aikonika Menteng Jak...\n",
              "\n",
              "[5 rows x 17 columns]"
            ]
          },
          "metadata": {
            "tags": []
          },
          "execution_count": 2
        }
      ]
    },
    {
      "cell_type": "code",
      "metadata": {
        "colab": {
          "base_uri": "https://localhost:8080/"
        },
        "id": "TUCwB8d9hwNO",
        "outputId": "f01e0ca1-a610-44cd-939e-eb45037b973e"
      },
      "source": [
        "df_rumah.info()"
      ],
      "execution_count": 3,
      "outputs": [
        {
          "output_type": "stream",
          "text": [
            "<class 'pandas.core.frame.DataFrame'>\n",
            "RangeIndex: 100 entries, 0 to 99\n",
            "Data columns (total 17 columns):\n",
            " #   Column     Non-Null Count  Dtype  \n",
            "---  ------     --------------  -----  \n",
            " 0   No         100 non-null    int64  \n",
            " 1   Tgl_Iklan  100 non-null    object \n",
            " 2   url        100 non-null    object \n",
            " 3   harga      100 non-null    int64  \n",
            " 4   Kota       100 non-null    object \n",
            " 5   LT         100 non-null    int64  \n",
            " 6   LB         100 non-null    int64  \n",
            " 7   KT         100 non-null    int64  \n",
            " 8   KM         100 non-null    int64  \n",
            " 9   KTP        97 non-null     float64\n",
            " 10  KMP        96 non-null     float64\n",
            " 11  carport    85 non-null     float64\n",
            " 12  garasi     84 non-null     float64\n",
            " 13  listrik    90 non-null     float64\n",
            " 14  surat      100 non-null    object \n",
            " 15  judul      100 non-null    object \n",
            " 16  deskripsi  100 non-null    object \n",
            "dtypes: float64(5), int64(6), object(6)\n",
            "memory usage: 13.4+ KB\n"
          ],
          "name": "stdout"
        }
      ]
    },
    {
      "cell_type": "code",
      "metadata": {
        "colab": {
          "base_uri": "https://localhost:8080/"
        },
        "id": "a93eBMqAlcyZ",
        "outputId": "89afbb46-7b85-4c45-83ce-57f905b769e6"
      },
      "source": [
        "#ukuran data\n",
        "R, C = df_rumah.shape\n",
        "'baris = ', R, ', Kolom = ', C"
      ],
      "execution_count": 4,
      "outputs": [
        {
          "output_type": "execute_result",
          "data": {
            "text/plain": [
              "('baris = ', 100, ', Kolom = ', 17)"
            ]
          },
          "metadata": {
            "tags": []
          },
          "execution_count": 4
        }
      ]
    },
    {
      "cell_type": "code",
      "metadata": {
        "colab": {
          "base_uri": "https://localhost:8080/"
        },
        "id": "ZJXg30YVmVr2",
        "outputId": "ff437a4d-6c88-445f-b632-4fc13110521c"
      },
      "source": [
        "#Kolom-kolom yang ada di data\n",
        "df_rumah.columns"
      ],
      "execution_count": 5,
      "outputs": [
        {
          "output_type": "execute_result",
          "data": {
            "text/plain": [
              "Index(['No', 'Tgl_Iklan', 'url', 'harga', 'Kota', 'LT', 'LB', 'KT', 'KM',\n",
              "       'KTP', 'KMP', 'carport', 'garasi', 'listrik', 'surat', 'judul',\n",
              "       'deskripsi'],\n",
              "      dtype='object')"
            ]
          },
          "metadata": {
            "tags": []
          },
          "execution_count": 5
        }
      ]
    },
    {
      "cell_type": "markdown",
      "metadata": {
        "id": "oWk6W7V5m5fy"
      },
      "source": [
        "#Mengecek adanya Duplikasi Data"
      ]
    },
    {
      "cell_type": "code",
      "metadata": {
        "colab": {
          "base_uri": "https://localhost:8080/"
        },
        "id": "iT_PBtp9miCi",
        "outputId": "9d2614b2-ef39-4321-8f03-e23b98c04a6a"
      },
      "source": [
        "#hapus kolom no terlebih dahulu karena hanya seperti index\n",
        "#f_rumah.drop(['No'], axis=1, inplace=True)\n",
        "\n",
        "#Cek duplikasi data\n",
        "df_rumah.duplicated().any()"
      ],
      "execution_count": 6,
      "outputs": [
        {
          "output_type": "execute_result",
          "data": {
            "text/plain": [
              "False"
            ]
          },
          "metadata": {
            "tags": []
          },
          "execution_count": 6
        }
      ]
    },
    {
      "cell_type": "markdown",
      "metadata": {
        "id": "y9oGdmwwlb8v"
      },
      "source": [
        "Tidak terdapat duplikasi nilai dalam data"
      ]
    },
    {
      "cell_type": "markdown",
      "metadata": {
        "id": "QQ6gdxI-nzyW"
      },
      "source": [
        "#Memilih Variabel"
      ]
    },
    {
      "cell_type": "code",
      "metadata": {
        "colab": {
          "base_uri": "https://localhost:8080/"
        },
        "id": "CUzugMWJoMQg",
        "outputId": "17584897-ca9f-4ceb-9d38-3d0c9a78b6c5"
      },
      "source": [
        "#mengecek atribut\n",
        "df_rumah.info()"
      ],
      "execution_count": 7,
      "outputs": [
        {
          "output_type": "stream",
          "text": [
            "<class 'pandas.core.frame.DataFrame'>\n",
            "RangeIndex: 100 entries, 0 to 99\n",
            "Data columns (total 17 columns):\n",
            " #   Column     Non-Null Count  Dtype  \n",
            "---  ------     --------------  -----  \n",
            " 0   No         100 non-null    int64  \n",
            " 1   Tgl_Iklan  100 non-null    object \n",
            " 2   url        100 non-null    object \n",
            " 3   harga      100 non-null    int64  \n",
            " 4   Kota       100 non-null    object \n",
            " 5   LT         100 non-null    int64  \n",
            " 6   LB         100 non-null    int64  \n",
            " 7   KT         100 non-null    int64  \n",
            " 8   KM         100 non-null    int64  \n",
            " 9   KTP        97 non-null     float64\n",
            " 10  KMP        96 non-null     float64\n",
            " 11  carport    85 non-null     float64\n",
            " 12  garasi     84 non-null     float64\n",
            " 13  listrik    90 non-null     float64\n",
            " 14  surat      100 non-null    object \n",
            " 15  judul      100 non-null    object \n",
            " 16  deskripsi  100 non-null    object \n",
            "dtypes: float64(5), int64(6), object(6)\n",
            "memory usage: 13.4+ KB\n"
          ],
          "name": "stdout"
        }
      ]
    },
    {
      "cell_type": "markdown",
      "metadata": {
        "id": "B-HFeURCokkW"
      },
      "source": [
        "Menghapus variable Tgl_Iklan, url, Kota, judul, dan deskripsi atau\n",
        "Memilih hanya variable harga, LT, LB, KT, KM, KTP, KMP, carport, garasi, listrik, surat"
      ]
    },
    {
      "cell_type": "code",
      "metadata": {
        "id": "FkFIMolepFqa"
      },
      "source": [
        "#Remove Varibel\n",
        "df_rumah.drop(['Tgl_Iklan','url','Kota','judul','deskripsi'], axis=1, inplace=True)"
      ],
      "execution_count": 8,
      "outputs": []
    },
    {
      "cell_type": "code",
      "metadata": {
        "colab": {
          "base_uri": "https://localhost:8080/",
          "height": 204
        },
        "id": "AraH_PjEpSbM",
        "outputId": "bbb141c9-1791-4c22-8408-2dec430f0ec5"
      },
      "source": [
        "df_rumah.head()"
      ],
      "execution_count": 9,
      "outputs": [
        {
          "output_type": "execute_result",
          "data": {
            "text/html": [
              "<div>\n",
              "<style scoped>\n",
              "    .dataframe tbody tr th:only-of-type {\n",
              "        vertical-align: middle;\n",
              "    }\n",
              "\n",
              "    .dataframe tbody tr th {\n",
              "        vertical-align: top;\n",
              "    }\n",
              "\n",
              "    .dataframe thead th {\n",
              "        text-align: right;\n",
              "    }\n",
              "</style>\n",
              "<table border=\"1\" class=\"dataframe\">\n",
              "  <thead>\n",
              "    <tr style=\"text-align: right;\">\n",
              "      <th></th>\n",
              "      <th>No</th>\n",
              "      <th>harga</th>\n",
              "      <th>LT</th>\n",
              "      <th>LB</th>\n",
              "      <th>KT</th>\n",
              "      <th>KM</th>\n",
              "      <th>KTP</th>\n",
              "      <th>KMP</th>\n",
              "      <th>carport</th>\n",
              "      <th>garasi</th>\n",
              "      <th>listrik</th>\n",
              "      <th>surat</th>\n",
              "    </tr>\n",
              "  </thead>\n",
              "  <tbody>\n",
              "    <tr>\n",
              "      <th>0</th>\n",
              "      <td>1</td>\n",
              "      <td>2800000000</td>\n",
              "      <td>170</td>\n",
              "      <td>210</td>\n",
              "      <td>5</td>\n",
              "      <td>3</td>\n",
              "      <td>1.0</td>\n",
              "      <td>1.0</td>\n",
              "      <td>2.0</td>\n",
              "      <td>NaN</td>\n",
              "      <td>3500.0</td>\n",
              "      <td>HGB</td>\n",
              "    </tr>\n",
              "    <tr>\n",
              "      <th>1</th>\n",
              "      <td>2</td>\n",
              "      <td>2550000000</td>\n",
              "      <td>210</td>\n",
              "      <td>160</td>\n",
              "      <td>4</td>\n",
              "      <td>3</td>\n",
              "      <td>NaN</td>\n",
              "      <td>NaN</td>\n",
              "      <td>NaN</td>\n",
              "      <td>NaN</td>\n",
              "      <td>NaN</td>\n",
              "      <td>HGB</td>\n",
              "    </tr>\n",
              "    <tr>\n",
              "      <th>2</th>\n",
              "      <td>3</td>\n",
              "      <td>2000000000</td>\n",
              "      <td>150</td>\n",
              "      <td>160</td>\n",
              "      <td>4</td>\n",
              "      <td>3</td>\n",
              "      <td>1.0</td>\n",
              "      <td>1.0</td>\n",
              "      <td>0.0</td>\n",
              "      <td>0.0</td>\n",
              "      <td>2200.0</td>\n",
              "      <td>SHM</td>\n",
              "    </tr>\n",
              "    <tr>\n",
              "      <th>3</th>\n",
              "      <td>4</td>\n",
              "      <td>22500000000</td>\n",
              "      <td>865</td>\n",
              "      <td>800</td>\n",
              "      <td>6</td>\n",
              "      <td>6</td>\n",
              "      <td>2.0</td>\n",
              "      <td>NaN</td>\n",
              "      <td>4.0</td>\n",
              "      <td>2.0</td>\n",
              "      <td>7700.0</td>\n",
              "      <td>SHM</td>\n",
              "    </tr>\n",
              "    <tr>\n",
              "      <th>4</th>\n",
              "      <td>5</td>\n",
              "      <td>10900000</td>\n",
              "      <td>120</td>\n",
              "      <td>400</td>\n",
              "      <td>3</td>\n",
              "      <td>3</td>\n",
              "      <td>1.0</td>\n",
              "      <td>1.0</td>\n",
              "      <td>0.0</td>\n",
              "      <td>0.0</td>\n",
              "      <td>13200.0</td>\n",
              "      <td>SHM</td>\n",
              "    </tr>\n",
              "  </tbody>\n",
              "</table>\n",
              "</div>"
            ],
            "text/plain": [
              "   No        harga   LT   LB  KT  KM  KTP  KMP  carport  garasi  listrik surat\n",
              "0   1   2800000000  170  210   5   3  1.0  1.0      2.0     NaN   3500.0   HGB\n",
              "1   2   2550000000  210  160   4   3  NaN  NaN      NaN     NaN      NaN   HGB\n",
              "2   3   2000000000  150  160   4   3  1.0  1.0      0.0     0.0   2200.0   SHM\n",
              "3   4  22500000000  865  800   6   6  2.0  NaN      4.0     2.0   7700.0   SHM\n",
              "4   5     10900000  120  400   3   3  1.0  1.0      0.0     0.0  13200.0   SHM"
            ]
          },
          "metadata": {
            "tags": []
          },
          "execution_count": 9
        }
      ]
    },
    {
      "cell_type": "markdown",
      "metadata": {
        "id": "iN41dMyrpRkt"
      },
      "source": [
        "#Mengubah tipe data yang sesuai"
      ]
    },
    {
      "cell_type": "code",
      "metadata": {
        "colab": {
          "base_uri": "https://localhost:8080/"
        },
        "id": "X8W8x1strczB",
        "outputId": "2bcb0e11-6f29-4840-9b00-1e5919601174"
      },
      "source": [
        "df_rumah.info()"
      ],
      "execution_count": 10,
      "outputs": [
        {
          "output_type": "stream",
          "text": [
            "<class 'pandas.core.frame.DataFrame'>\n",
            "RangeIndex: 100 entries, 0 to 99\n",
            "Data columns (total 12 columns):\n",
            " #   Column   Non-Null Count  Dtype  \n",
            "---  ------   --------------  -----  \n",
            " 0   No       100 non-null    int64  \n",
            " 1   harga    100 non-null    int64  \n",
            " 2   LT       100 non-null    int64  \n",
            " 3   LB       100 non-null    int64  \n",
            " 4   KT       100 non-null    int64  \n",
            " 5   KM       100 non-null    int64  \n",
            " 6   KTP      97 non-null     float64\n",
            " 7   KMP      96 non-null     float64\n",
            " 8   carport  85 non-null     float64\n",
            " 9   garasi   84 non-null     float64\n",
            " 10  listrik  90 non-null     float64\n",
            " 11  surat    100 non-null    object \n",
            "dtypes: float64(5), int64(6), object(1)\n",
            "memory usage: 9.5+ KB\n"
          ],
          "name": "stdout"
        }
      ]
    },
    {
      "cell_type": "code",
      "metadata": {
        "colab": {
          "base_uri": "https://localhost:8080/"
        },
        "id": "ZP3M1XS1pMaC",
        "outputId": "b82a05aa-14d2-45ba-b383-c3b80a83e9dc"
      },
      "source": [
        "#Mengkoreksi Tipe Variabel surat menjadi category\n",
        "df_rumah[['surat']] = df_rumah[['surat']].astype('category')\n",
        "df_rumah.info()"
      ],
      "execution_count": 11,
      "outputs": [
        {
          "output_type": "stream",
          "text": [
            "<class 'pandas.core.frame.DataFrame'>\n",
            "RangeIndex: 100 entries, 0 to 99\n",
            "Data columns (total 12 columns):\n",
            " #   Column   Non-Null Count  Dtype   \n",
            "---  ------   --------------  -----   \n",
            " 0   No       100 non-null    int64   \n",
            " 1   harga    100 non-null    int64   \n",
            " 2   LT       100 non-null    int64   \n",
            " 3   LB       100 non-null    int64   \n",
            " 4   KT       100 non-null    int64   \n",
            " 5   KM       100 non-null    int64   \n",
            " 6   KTP      97 non-null     float64 \n",
            " 7   KMP      96 non-null     float64 \n",
            " 8   carport  85 non-null     float64 \n",
            " 9   garasi   84 non-null     float64 \n",
            " 10  listrik  90 non-null     float64 \n",
            " 11  surat    100 non-null    category\n",
            "dtypes: category(1), float64(5), int64(6)\n",
            "memory usage: 8.9 KB\n"
          ],
          "name": "stdout"
        }
      ]
    },
    {
      "cell_type": "markdown",
      "metadata": {
        "id": "e2czJ_arpkpm"
      },
      "source": [
        "#Pengecekan Outliers"
      ]
    },
    {
      "cell_type": "code",
      "metadata": {
        "colab": {
          "base_uri": "https://localhost:8080/",
          "height": 333
        },
        "id": "niFiTi_4pwci",
        "outputId": "aa3f78d2-f8ae-4f29-aeda-63cc94e9c4b4"
      },
      "source": [
        "p = sns.boxplot('harga', data=df_rumah)"
      ],
      "execution_count": 12,
      "outputs": [
        {
          "output_type": "stream",
          "text": [
            "/usr/local/lib/python3.7/dist-packages/seaborn/_decorators.py:43: FutureWarning: Pass the following variable as a keyword arg: x. From version 0.12, the only valid positional argument will be `data`, and passing other arguments without an explicit keyword will result in an error or misinterpretation.\n",
            "  FutureWarning\n"
          ],
          "name": "stderr"
        },
        {
          "output_type": "display_data",
          "data": {
            "image/png": "[encoded data removed]",
            "text/plain": [
              "<Figure size 432x288 with 1 Axes>"
            ]
          },
          "metadata": {
            "tags": [],
            "needs_background": "light"
          }
        }
      ]
    },
    {
      "cell_type": "markdown",
      "metadata": {
        "id": "hPlH4WxQtlSO"
      },
      "source": [
        "apabila dilihat dari boxplot terdapat beberapa outlier. "
      ]
    },
    {
      "cell_type": "code",
      "metadata": {
        "colab": {
          "base_uri": "https://localhost:8080/",
          "height": 369
        },
        "id": "tFWRmymxtJvy",
        "outputId": "c8e60adc-8a62-422f-b51a-c495766e9b0d"
      },
      "source": [
        "dis = sns.displot(df_rumah['harga'], kde=True)"
      ],
      "execution_count": 13,
      "outputs": [
        {
          "output_type": "display_data",
          "data": {
            "image/png": "[encoded data removed]",
            "text/plain": [
              "<Figure size 360x360 with 1 Axes>"
            ]
          },
          "metadata": {
            "tags": [],
            "needs_background": "light"
          }
        }
      ]
    },
    {
      "cell_type": "code",
      "metadata": {
        "colab": {
          "base_uri": "https://localhost:8080/"
        },
        "id": "ghOuF5itvnJ7",
        "outputId": "5b4959b1-998d-438e-e6f1-9b748db268da"
      },
      "source": [
        "# Misal dengan asumsi data berdistribusi normal\n",
        "# dan menggunakan 95% confidence interval di sekitar variabel \"harga\"\n",
        "\n",
        "df = np.abs(df_rumah.harga - df_rumah.harga.mean())<=(2*df_rumah.harga.std())\n",
        "# mu-2s<x<mu+2s\n",
        "print(df.shape)\n",
        "df.head()\n",
        "df = df"
      ],
      "execution_count": 14,
      "outputs": [
        {
          "output_type": "stream",
          "text": [
            "(100,)\n"
          ],
          "name": "stdout"
        }
      ]
    },
    {
      "cell_type": "code",
      "metadata": {
        "colab": {
          "base_uri": "https://localhost:8080/"
        },
        "id": "680GlRMwwCIo",
        "outputId": "cdf35b9a-4383-4813-e65c-e87cebfc67ef"
      },
      "source": [
        "df_rumah2= df_rumah[df] #Data tanpa outliers\n",
        "\n",
        "print(df_rumah2.shape, df_rumah.shape)\n",
        "# Perhatikan disini sengaja data yang telah di remove outliernya \n",
        "# disimpan dalam variabel baru \"Price2\"\n",
        "# Jika datanya besar hati-hati melakukan hal ini"
      ],
      "execution_count": 15,
      "outputs": [
        {
          "output_type": "stream",
          "text": [
            "(96, 12) (100, 12)\n"
          ],
          "name": "stdout"
        }
      ]
    },
    {
      "cell_type": "code",
      "metadata": {
        "colab": {
          "base_uri": "https://localhost:8080/",
          "height": 350
        },
        "id": "sHwZNsBf68mJ",
        "outputId": "e89daf26-4579-4e77-fcf6-bf61eb0788e6"
      },
      "source": [
        "sns.boxplot('harga', data=df_rumah2)"
      ],
      "execution_count": 16,
      "outputs": [
        {
          "output_type": "stream",
          "text": [
            "/usr/local/lib/python3.7/dist-packages/seaborn/_decorators.py:43: FutureWarning: Pass the following variable as a keyword arg: x. From version 0.12, the only valid positional argument will be `data`, and passing other arguments without an explicit keyword will result in an error or misinterpretation.\n",
            "  FutureWarning\n"
          ],
          "name": "stderr"
        },
        {
          "output_type": "execute_result",
          "data": {
            "text/plain": [
              "<matplotlib.axes._subplots.AxesSubplot at 0x7f2e4c3a9d10>"
            ]
          },
          "metadata": {
            "tags": []
          },
          "execution_count": 16
        },
        {
          "output_type": "display_data",
          "data": {
            "image/png": "[encoded data removed]",
            "text/plain": [
              "<Figure size 432x288 with 1 Axes>"
            ]
          },
          "metadata": {
            "tags": [],
            "needs_background": "light"
          }
        }
      ]
    },
    {
      "cell_type": "code",
      "metadata": {
        "colab": {
          "base_uri": "https://localhost:8080/",
          "height": 369
        },
        "id": "WIA3SS9m61_J",
        "outputId": "e2175fd6-5167-460b-b719-f7affc87f0e7"
      },
      "source": [
        "dis = sns.displot(df_rumah2['harga'], kde=True)"
      ],
      "execution_count": 17,
      "outputs": [
        {
          "output_type": "display_data",
          "data": {
            "image/png": "[encoded data removed]",
            "text/plain": [
              "<Figure size 360x360 with 1 Axes>"
            ]
          },
          "metadata": {
            "tags": [],
            "needs_background": "light"
          }
        }
      ]
    },
    {
      "cell_type": "markdown",
      "metadata": {
        "id": "nPL3Sv3e60UK"
      },
      "source": [
        ""
      ]
    },
    {
      "cell_type": "code",
      "metadata": {
        "colab": {
          "base_uri": "https://localhost:8080/"
        },
        "id": "sCB3d1qq1kxs",
        "outputId": "da02a077-5f34-452e-d87b-9c58532b8a5d"
      },
      "source": [
        "#data outliers yang dipisahkan\n",
        "df_rumah3 = df_rumah[~df_rumah.isin(df_rumah2)].dropna(how=\"all\").reset_index().drop(['index'], axis=1)\n",
        "df_rumah3.shape"
      ],
      "execution_count": 18,
      "outputs": [
        {
          "output_type": "execute_result",
          "data": {
            "text/plain": [
              "(4, 12)"
            ]
          },
          "metadata": {
            "tags": []
          },
          "execution_count": 18
        }
      ]
    },
    {
      "cell_type": "code",
      "metadata": {
        "colab": {
          "base_uri": "https://localhost:8080/",
          "height": 173
        },
        "id": "mWSxRNJ321DP",
        "outputId": "925cd95f-f958-43f8-bb91-fdcb90d374e3"
      },
      "source": [
        "df_rumah3"
      ],
      "execution_count": 19,
      "outputs": [
        {
          "output_type": "execute_result",
          "data": {
            "text/html": [
              "<div>\n",
              "<style scoped>\n",
              "    .dataframe tbody tr th:only-of-type {\n",
              "        vertical-align: middle;\n",
              "    }\n",
              "\n",
              "    .dataframe tbody tr th {\n",
              "        vertical-align: top;\n",
              "    }\n",
              "\n",
              "    .dataframe thead th {\n",
              "        text-align: right;\n",
              "    }\n",
              "</style>\n",
              "<table border=\"1\" class=\"dataframe\">\n",
              "  <thead>\n",
              "    <tr style=\"text-align: right;\">\n",
              "      <th></th>\n",
              "      <th>No</th>\n",
              "      <th>harga</th>\n",
              "      <th>LT</th>\n",
              "      <th>LB</th>\n",
              "      <th>KT</th>\n",
              "      <th>KM</th>\n",
              "      <th>KTP</th>\n",
              "      <th>KMP</th>\n",
              "      <th>carport</th>\n",
              "      <th>garasi</th>\n",
              "      <th>listrik</th>\n",
              "      <th>surat</th>\n",
              "    </tr>\n",
              "  </thead>\n",
              "  <tbody>\n",
              "    <tr>\n",
              "      <th>0</th>\n",
              "      <td>4.0</td>\n",
              "      <td>2.250000e+10</td>\n",
              "      <td>865.0</td>\n",
              "      <td>800.0</td>\n",
              "      <td>6.0</td>\n",
              "      <td>6.0</td>\n",
              "      <td>2.0</td>\n",
              "      <td>NaN</td>\n",
              "      <td>4.0</td>\n",
              "      <td>2.0</td>\n",
              "      <td>7700.0</td>\n",
              "      <td>SHM</td>\n",
              "    </tr>\n",
              "    <tr>\n",
              "      <th>1</th>\n",
              "      <td>7.0</td>\n",
              "      <td>3.600000e+10</td>\n",
              "      <td>866.0</td>\n",
              "      <td>544.0</td>\n",
              "      <td>4.0</td>\n",
              "      <td>6.0</td>\n",
              "      <td>NaN</td>\n",
              "      <td>NaN</td>\n",
              "      <td>4.0</td>\n",
              "      <td>2.0</td>\n",
              "      <td>16000.0</td>\n",
              "      <td>SHM</td>\n",
              "    </tr>\n",
              "    <tr>\n",
              "      <th>2</th>\n",
              "      <td>44.0</td>\n",
              "      <td>1.600000e+10</td>\n",
              "      <td>556.0</td>\n",
              "      <td>480.0</td>\n",
              "      <td>3.0</td>\n",
              "      <td>2.0</td>\n",
              "      <td>0.0</td>\n",
              "      <td>0.0</td>\n",
              "      <td>NaN</td>\n",
              "      <td>NaN</td>\n",
              "      <td>2200.0</td>\n",
              "      <td>SHM</td>\n",
              "    </tr>\n",
              "    <tr>\n",
              "      <th>3</th>\n",
              "      <td>45.0</td>\n",
              "      <td>1.575000e+10</td>\n",
              "      <td>630.0</td>\n",
              "      <td>650.0</td>\n",
              "      <td>4.0</td>\n",
              "      <td>3.0</td>\n",
              "      <td>1.0</td>\n",
              "      <td>1.0</td>\n",
              "      <td>5.0</td>\n",
              "      <td>4.0</td>\n",
              "      <td>10500.0</td>\n",
              "      <td>SHM</td>\n",
              "    </tr>\n",
              "  </tbody>\n",
              "</table>\n",
              "</div>"
            ],
            "text/plain": [
              "     No         harga     LT     LB   KT  ...  KMP  carport  garasi  listrik  surat\n",
              "0   4.0  2.250000e+10  865.0  800.0  6.0  ...  NaN      4.0     2.0   7700.0    SHM\n",
              "1   7.0  3.600000e+10  866.0  544.0  4.0  ...  NaN      4.0     2.0  16000.0    SHM\n",
              "2  44.0  1.600000e+10  556.0  480.0  3.0  ...  0.0      NaN     NaN   2200.0    SHM\n",
              "3  45.0  1.575000e+10  630.0  650.0  4.0  ...  1.0      5.0     4.0  10500.0    SHM\n",
              "\n",
              "[4 rows x 12 columns]"
            ]
          },
          "metadata": {
            "tags": []
          },
          "execution_count": 19
        }
      ]
    },
    {
      "cell_type": "markdown",
      "metadata": {
        "id": "khG4rCATpxMy"
      },
      "source": [
        "#Handling Missing Values"
      ]
    },
    {
      "cell_type": "markdown",
      "metadata": {
        "id": "rhrc5d1E508B"
      },
      "source": [
        "##Data tanpa outliers"
      ]
    },
    {
      "cell_type": "code",
      "metadata": {
        "id": "n3NOLbtbp-Rh",
        "colab": {
          "base_uri": "https://localhost:8080/"
        },
        "outputId": "b299e095-4497-4fb2-9847-fccf13f04113"
      },
      "source": [
        "#Cek keberadaan missing values Data tanpa outliers\n",
        "df_rumah2.isnull().any()"
      ],
      "execution_count": 20,
      "outputs": [
        {
          "output_type": "execute_result",
          "data": {
            "text/plain": [
              "No         False\n",
              "harga      False\n",
              "LT         False\n",
              "LB         False\n",
              "KT         False\n",
              "KM         False\n",
              "KTP         True\n",
              "KMP         True\n",
              "carport     True\n",
              "garasi      True\n",
              "listrik     True\n",
              "surat      False\n",
              "dtype: bool"
            ]
          },
          "metadata": {
            "tags": []
          },
          "execution_count": 20
        }
      ]
    },
    {
      "cell_type": "code",
      "metadata": {
        "colab": {
          "base_uri": "https://localhost:8080/"
        },
        "id": "e9fAZr003UQu",
        "outputId": "d7a114c5-9d59-479f-fdc0-9cbf7b85809a"
      },
      "source": [
        "#cek jumlah missing values Data tanpa outliers\n",
        "df_rumah2.isnull().sum()"
      ],
      "execution_count": 21,
      "outputs": [
        {
          "output_type": "execute_result",
          "data": {
            "text/plain": [
              "No          0\n",
              "harga       0\n",
              "LT          0\n",
              "LB          0\n",
              "KT          0\n",
              "KM          0\n",
              "KTP         2\n",
              "KMP         2\n",
              "carport    14\n",
              "garasi     15\n",
              "listrik    10\n",
              "surat       0\n",
              "dtype: int64"
            ]
          },
          "metadata": {
            "tags": []
          },
          "execution_count": 21
        }
      ]
    },
    {
      "cell_type": "code",
      "metadata": {
        "colab": {
          "base_uri": "https://localhost:8080/",
          "height": 324
        },
        "id": "bug5u24g3Y8i",
        "outputId": "7a8157ce-39b6-4901-cc81-fb8b25c314c2"
      },
      "source": [
        "sum_null = df_rumah2.isnull().sum()\n",
        "plt.title(\"Missing Value Counts\")\n",
        "sum_null.plot.bar()"
      ],
      "execution_count": 22,
      "outputs": [
        {
          "output_type": "execute_result",
          "data": {
            "text/plain": [
              "<matplotlib.axes._subplots.AxesSubplot at 0x7f2e4c331d90>"
            ]
          },
          "metadata": {
            "tags": []
          },
          "execution_count": 22
        },
        {
          "output_type": "display_data",
          "data": {
            "image/png": "[encoded data removed]",
            "text/plain": [
              "<Figure size 432x288 with 1 Axes>"
            ]
          },
          "metadata": {
            "tags": [],
            "needs_background": "light"
          }
        }
      ]
    },
    {
      "cell_type": "code",
      "metadata": {
        "colab": {
          "base_uri": "https://localhost:8080/",
          "height": 499
        },
        "id": "_7HxUuk83eaE",
        "outputId": "585767b2-e0f8-4c6e-d428-f8f6584418d6"
      },
      "source": [
        "#heatmap letak keberadaan missing values\n",
        "plt.figure(figsize=(10,8))\n",
        "sns.heatmap(df_rumah2.isnull(), cbar=False)\n",
        "plt.title('Heatmap Missing Value')\n",
        "plt.show()"
      ],
      "execution_count": 23,
      "outputs": [
        {
          "output_type": "display_data",
          "data": {
            "image/png": "[encoded data removed]",
            "text/plain": [
              "<Figure size 720x576 with 1 Axes>"
            ]
          },
          "metadata": {
            "tags": [],
            "needs_background": "light"
          }
        }
      ]
    },
    {
      "cell_type": "markdown",
      "metadata": {
        "id": "xXGtC_Qm3o_W"
      },
      "source": [
        "###Imputasi missing values"
      ]
    },
    {
      "cell_type": "code",
      "metadata": {
        "colab": {
          "base_uri": "https://localhost:8080/"
        },
        "id": "1QpFo2rD38Vr",
        "outputId": "daf9c40f-6652-4262-db52-b576a64a84da"
      },
      "source": [
        "df_rumah2.median()"
      ],
      "execution_count": 24,
      "outputs": [
        {
          "output_type": "execute_result",
          "data": {
            "text/plain": [
              "No         5.250000e+01\n",
              "harga      2.925000e+09\n",
              "LT         1.845000e+02\n",
              "LB         2.100000e+02\n",
              "KT         3.500000e+00\n",
              "KM         3.000000e+00\n",
              "KTP        1.000000e+00\n",
              "KMP        1.000000e+00\n",
              "carport    1.000000e+00\n",
              "garasi     0.000000e+00\n",
              "listrik    3.500000e+03\n",
              "dtype: float64"
            ]
          },
          "metadata": {
            "tags": []
          },
          "execution_count": 24
        }
      ]
    },
    {
      "cell_type": "code",
      "metadata": {
        "colab": {
          "base_uri": "https://localhost:8080/"
        },
        "id": "2-2PlVM-48_h",
        "outputId": "c96276ee-884a-4c72-e4da-76a5709b02c0"
      },
      "source": [
        "df_rumah2.fillna(df_rumah2.median(), inplace=True)\n",
        "df_rumah2.isna().any()"
      ],
      "execution_count": 25,
      "outputs": [
        {
          "output_type": "stream",
          "text": [
            "/usr/local/lib/python3.7/dist-packages/pandas/core/series.py:4536: SettingWithCopyWarning: \n",
            "A value is trying to be set on a copy of a slice from a DataFrame\n",
            "\n",
            "See the caveats in the documentation: https://pandas.pydata.org/pandas-docs/stable/user_guide/indexing.html#returning-a-view-versus-a-copy\n",
            "  downcast=downcast,\n"
          ],
          "name": "stderr"
        },
        {
          "output_type": "execute_result",
          "data": {
            "text/plain": [
              "No         False\n",
              "harga      False\n",
              "LT         False\n",
              "LB         False\n",
              "KT         False\n",
              "KM         False\n",
              "KTP        False\n",
              "KMP        False\n",
              "carport    False\n",
              "garasi     False\n",
              "listrik    False\n",
              "surat      False\n",
              "dtype: bool"
            ]
          },
          "metadata": {
            "tags": []
          },
          "execution_count": 25
        }
      ]
    },
    {
      "cell_type": "markdown",
      "metadata": {
        "id": "yh7r5t1N6eBJ"
      },
      "source": [
        "##Data Outliers"
      ]
    },
    {
      "cell_type": "code",
      "metadata": {
        "colab": {
          "base_uri": "https://localhost:8080/"
        },
        "id": "jJbv9DIa6iAK",
        "outputId": "6cd6c33e-5316-4280-d869-981f6d078663"
      },
      "source": [
        "df_rumah3.isnull().any()"
      ],
      "execution_count": 26,
      "outputs": [
        {
          "output_type": "execute_result",
          "data": {
            "text/plain": [
              "No         False\n",
              "harga      False\n",
              "LT         False\n",
              "LB         False\n",
              "KT         False\n",
              "KM         False\n",
              "KTP         True\n",
              "KMP         True\n",
              "carport     True\n",
              "garasi      True\n",
              "listrik    False\n",
              "surat      False\n",
              "dtype: bool"
            ]
          },
          "metadata": {
            "tags": []
          },
          "execution_count": 26
        }
      ]
    },
    {
      "cell_type": "code",
      "metadata": {
        "colab": {
          "base_uri": "https://localhost:8080/",
          "height": 173
        },
        "id": "Lg_5Y7gA7b2E",
        "outputId": "707aee51-d60b-45d2-f565-0c346ed2e070"
      },
      "source": [
        "df_rumah3"
      ],
      "execution_count": 27,
      "outputs": [
        {
          "output_type": "execute_result",
          "data": {
            "text/html": [
              "<div>\n",
              "<style scoped>\n",
              "    .dataframe tbody tr th:only-of-type {\n",
              "        vertical-align: middle;\n",
              "    }\n",
              "\n",
              "    .dataframe tbody tr th {\n",
              "        vertical-align: top;\n",
              "    }\n",
              "\n",
              "    .dataframe thead th {\n",
              "        text-align: right;\n",
              "    }\n",
              "</style>\n",
              "<table border=\"1\" class=\"dataframe\">\n",
              "  <thead>\n",
              "    <tr style=\"text-align: right;\">\n",
              "      <th></th>\n",
              "      <th>No</th>\n",
              "      <th>harga</th>\n",
              "      <th>LT</th>\n",
              "      <th>LB</th>\n",
              "      <th>KT</th>\n",
              "      <th>KM</th>\n",
              "      <th>KTP</th>\n",
              "      <th>KMP</th>\n",
              "      <th>carport</th>\n",
              "      <th>garasi</th>\n",
              "      <th>listrik</th>\n",
              "      <th>surat</th>\n",
              "    </tr>\n",
              "  </thead>\n",
              "  <tbody>\n",
              "    <tr>\n",
              "      <th>0</th>\n",
              "      <td>4.0</td>\n",
              "      <td>2.250000e+10</td>\n",
              "      <td>865.0</td>\n",
              "      <td>800.0</td>\n",
              "      <td>6.0</td>\n",
              "      <td>6.0</td>\n",
              "      <td>2.0</td>\n",
              "      <td>NaN</td>\n",
              "      <td>4.0</td>\n",
              "      <td>2.0</td>\n",
              "      <td>7700.0</td>\n",
              "      <td>SHM</td>\n",
              "    </tr>\n",
              "    <tr>\n",
              "      <th>1</th>\n",
              "      <td>7.0</td>\n",
              "      <td>3.600000e+10</td>\n",
              "      <td>866.0</td>\n",
              "      <td>544.0</td>\n",
              "      <td>4.0</td>\n",
              "      <td>6.0</td>\n",
              "      <td>NaN</td>\n",
              "      <td>NaN</td>\n",
              "      <td>4.0</td>\n",
              "      <td>2.0</td>\n",
              "      <td>16000.0</td>\n",
              "      <td>SHM</td>\n",
              "    </tr>\n",
              "    <tr>\n",
              "      <th>2</th>\n",
              "      <td>44.0</td>\n",
              "      <td>1.600000e+10</td>\n",
              "      <td>556.0</td>\n",
              "      <td>480.0</td>\n",
              "      <td>3.0</td>\n",
              "      <td>2.0</td>\n",
              "      <td>0.0</td>\n",
              "      <td>0.0</td>\n",
              "      <td>NaN</td>\n",
              "      <td>NaN</td>\n",
              "      <td>2200.0</td>\n",
              "      <td>SHM</td>\n",
              "    </tr>\n",
              "    <tr>\n",
              "      <th>3</th>\n",
              "      <td>45.0</td>\n",
              "      <td>1.575000e+10</td>\n",
              "      <td>630.0</td>\n",
              "      <td>650.0</td>\n",
              "      <td>4.0</td>\n",
              "      <td>3.0</td>\n",
              "      <td>1.0</td>\n",
              "      <td>1.0</td>\n",
              "      <td>5.0</td>\n",
              "      <td>4.0</td>\n",
              "      <td>10500.0</td>\n",
              "      <td>SHM</td>\n",
              "    </tr>\n",
              "  </tbody>\n",
              "</table>\n",
              "</div>"
            ],
            "text/plain": [
              "     No         harga     LT     LB   KT  ...  KMP  carport  garasi  listrik  surat\n",
              "0   4.0  2.250000e+10  865.0  800.0  6.0  ...  NaN      4.0     2.0   7700.0    SHM\n",
              "1   7.0  3.600000e+10  866.0  544.0  4.0  ...  NaN      4.0     2.0  16000.0    SHM\n",
              "2  44.0  1.600000e+10  556.0  480.0  3.0  ...  0.0      NaN     NaN   2200.0    SHM\n",
              "3  45.0  1.575000e+10  630.0  650.0  4.0  ...  1.0      5.0     4.0  10500.0    SHM\n",
              "\n",
              "[4 rows x 12 columns]"
            ]
          },
          "metadata": {
            "tags": []
          },
          "execution_count": 27
        }
      ]
    },
    {
      "cell_type": "code",
      "metadata": {
        "colab": {
          "base_uri": "https://localhost:8080/"
        },
        "id": "RHVoMFsX6nzk",
        "outputId": "879ee2b8-ddcb-455b-c756-2a9694b69910"
      },
      "source": [
        "df_rumah3.isnull().sum()"
      ],
      "execution_count": 28,
      "outputs": [
        {
          "output_type": "execute_result",
          "data": {
            "text/plain": [
              "No         0\n",
              "harga      0\n",
              "LT         0\n",
              "LB         0\n",
              "KT         0\n",
              "KM         0\n",
              "KTP        1\n",
              "KMP        2\n",
              "carport    1\n",
              "garasi     1\n",
              "listrik    0\n",
              "surat      0\n",
              "dtype: int64"
            ]
          },
          "metadata": {
            "tags": []
          },
          "execution_count": 28
        }
      ]
    },
    {
      "cell_type": "code",
      "metadata": {
        "colab": {
          "base_uri": "https://localhost:8080/"
        },
        "id": "v-wr0J2B6r-C",
        "outputId": "aff03d2d-8a4a-424c-e690-5893930c2c0c"
      },
      "source": [
        "df_rumah3.median()"
      ],
      "execution_count": 29,
      "outputs": [
        {
          "output_type": "execute_result",
          "data": {
            "text/plain": [
              "No         2.550000e+01\n",
              "harga      1.925000e+10\n",
              "LT         7.475000e+02\n",
              "LB         5.970000e+02\n",
              "KT         4.000000e+00\n",
              "KM         4.500000e+00\n",
              "KTP        1.000000e+00\n",
              "KMP        5.000000e-01\n",
              "carport    4.000000e+00\n",
              "garasi     2.000000e+00\n",
              "listrik    9.100000e+03\n",
              "dtype: float64"
            ]
          },
          "metadata": {
            "tags": []
          },
          "execution_count": 29
        }
      ]
    },
    {
      "cell_type": "code",
      "metadata": {
        "colab": {
          "base_uri": "https://localhost:8080/"
        },
        "id": "6tDlhgcz8e33",
        "outputId": "c126a0ad-426d-4d5b-fd5b-242deb805c48"
      },
      "source": [
        "df_rumah3.fillna(df_rumah3.median(), inplace=True)\n",
        "df_rumah3.isnull().any()"
      ],
      "execution_count": 30,
      "outputs": [
        {
          "output_type": "execute_result",
          "data": {
            "text/plain": [
              "No         False\n",
              "harga      False\n",
              "LT         False\n",
              "LB         False\n",
              "KT         False\n",
              "KM         False\n",
              "KTP        False\n",
              "KMP        False\n",
              "carport    False\n",
              "garasi     False\n",
              "listrik    False\n",
              "surat      False\n",
              "dtype: bool"
            ]
          },
          "metadata": {
            "tags": []
          },
          "execution_count": 30
        }
      ]
    },
    {
      "cell_type": "code",
      "metadata": {
        "id": "viO4MGqb89F7",
        "colab": {
          "base_uri": "https://localhost:8080/"
        },
        "outputId": "6516781f-0e58-4185-9e5f-56492bb604b6"
      },
      "source": [
        "#ubah tipe data numerik menjadi int\n",
        "df_rumah2[['KTP','KMP','carport','garasi','listrik']] = df_rumah2[['KTP','KMP','carport','garasi','listrik']].astype('int')\n",
        "df_rumah3[['KTP','KMP','carport','garasi','listrik']] = df_rumah3[['KTP','KMP','carport','garasi','listrik']].astype('int')"
      ],
      "execution_count": 31,
      "outputs": [
        {
          "output_type": "stream",
          "text": [
            "/usr/local/lib/python3.7/dist-packages/pandas/core/frame.py:3069: SettingWithCopyWarning: \n",
            "A value is trying to be set on a copy of a slice from a DataFrame.\n",
            "Try using .loc[row_indexer,col_indexer] = value instead\n",
            "\n",
            "See the caveats in the documentation: https://pandas.pydata.org/pandas-docs/stable/user_guide/indexing.html#returning-a-view-versus-a-copy\n",
            "  self[k1] = value[k2]\n"
          ],
          "name": "stderr"
        }
      ]
    },
    {
      "cell_type": "markdown",
      "metadata": {
        "id": "laMOBV4op-8a"
      },
      "source": [
        "#Statistika Deskriptif"
      ]
    },
    {
      "cell_type": "code",
      "metadata": {
        "id": "nZGCn0uBqPma",
        "colab": {
          "base_uri": "https://localhost:8080/",
          "height": 317
        },
        "outputId": "2382c482-d1b9-4b3f-b9cf-7b9c7fc74b0f"
      },
      "source": [
        "df_rumah2.describe()"
      ],
      "execution_count": 32,
      "outputs": [
        {
          "output_type": "execute_result",
          "data": {
            "text/html": [
              "<div>\n",
              "<style scoped>\n",
              "    .dataframe tbody tr th:only-of-type {\n",
              "        vertical-align: middle;\n",
              "    }\n",
              "\n",
              "    .dataframe tbody tr th {\n",
              "        vertical-align: top;\n",
              "    }\n",
              "\n",
              "    .dataframe thead th {\n",
              "        text-align: right;\n",
              "    }\n",
              "</style>\n",
              "<table border=\"1\" class=\"dataframe\">\n",
              "  <thead>\n",
              "    <tr style=\"text-align: right;\">\n",
              "      <th></th>\n",
              "      <th>No</th>\n",
              "      <th>harga</th>\n",
              "      <th>LT</th>\n",
              "      <th>LB</th>\n",
              "      <th>KT</th>\n",
              "      <th>KM</th>\n",
              "      <th>KTP</th>\n",
              "      <th>KMP</th>\n",
              "      <th>carport</th>\n",
              "      <th>garasi</th>\n",
              "      <th>listrik</th>\n",
              "    </tr>\n",
              "  </thead>\n",
              "  <tbody>\n",
              "    <tr>\n",
              "      <th>count</th>\n",
              "      <td>96.000000</td>\n",
              "      <td>9.600000e+01</td>\n",
              "      <td>96.000000</td>\n",
              "      <td>96.000000</td>\n",
              "      <td>96.000000</td>\n",
              "      <td>96.000000</td>\n",
              "      <td>96.000000</td>\n",
              "      <td>96.00000</td>\n",
              "      <td>96.000000</td>\n",
              "      <td>96.000000</td>\n",
              "      <td>96.000000</td>\n",
              "    </tr>\n",
              "    <tr>\n",
              "      <th>mean</th>\n",
              "      <td>51.562500</td>\n",
              "      <td>3.735459e+09</td>\n",
              "      <td>205.406250</td>\n",
              "      <td>238.166667</td>\n",
              "      <td>3.531250</td>\n",
              "      <td>3.010417</td>\n",
              "      <td>0.645833</td>\n",
              "      <td>0.59375</td>\n",
              "      <td>1.031250</td>\n",
              "      <td>0.187500</td>\n",
              "      <td>3797.916667</td>\n",
              "    </tr>\n",
              "    <tr>\n",
              "      <th>std</th>\n",
              "      <td>28.853464</td>\n",
              "      <td>2.489633e+09</td>\n",
              "      <td>104.001982</td>\n",
              "      <td>149.251160</td>\n",
              "      <td>1.025497</td>\n",
              "      <td>1.119161</td>\n",
              "      <td>0.480771</td>\n",
              "      <td>0.51459</td>\n",
              "      <td>0.800699</td>\n",
              "      <td>0.488014</td>\n",
              "      <td>2468.836469</td>\n",
              "    </tr>\n",
              "    <tr>\n",
              "      <th>min</th>\n",
              "      <td>1.000000</td>\n",
              "      <td>1.090000e+07</td>\n",
              "      <td>40.000000</td>\n",
              "      <td>36.000000</td>\n",
              "      <td>1.000000</td>\n",
              "      <td>1.000000</td>\n",
              "      <td>0.000000</td>\n",
              "      <td>0.00000</td>\n",
              "      <td>0.000000</td>\n",
              "      <td>0.000000</td>\n",
              "      <td>1300.000000</td>\n",
              "    </tr>\n",
              "    <tr>\n",
              "      <th>25%</th>\n",
              "      <td>26.750000</td>\n",
              "      <td>1.950000e+09</td>\n",
              "      <td>127.500000</td>\n",
              "      <td>132.250000</td>\n",
              "      <td>3.000000</td>\n",
              "      <td>2.000000</td>\n",
              "      <td>0.000000</td>\n",
              "      <td>0.00000</td>\n",
              "      <td>0.000000</td>\n",
              "      <td>0.000000</td>\n",
              "      <td>2200.000000</td>\n",
              "    </tr>\n",
              "    <tr>\n",
              "      <th>50%</th>\n",
              "      <td>52.500000</td>\n",
              "      <td>2.925000e+09</td>\n",
              "      <td>184.500000</td>\n",
              "      <td>210.000000</td>\n",
              "      <td>3.500000</td>\n",
              "      <td>3.000000</td>\n",
              "      <td>1.000000</td>\n",
              "      <td>1.00000</td>\n",
              "      <td>1.000000</td>\n",
              "      <td>0.000000</td>\n",
              "      <td>3500.000000</td>\n",
              "    </tr>\n",
              "    <tr>\n",
              "      <th>75%</th>\n",
              "      <td>76.250000</td>\n",
              "      <td>5.362500e+09</td>\n",
              "      <td>266.750000</td>\n",
              "      <td>321.250000</td>\n",
              "      <td>4.000000</td>\n",
              "      <td>4.000000</td>\n",
              "      <td>1.000000</td>\n",
              "      <td>1.00000</td>\n",
              "      <td>2.000000</td>\n",
              "      <td>0.000000</td>\n",
              "      <td>4400.000000</td>\n",
              "    </tr>\n",
              "    <tr>\n",
              "      <th>max</th>\n",
              "      <td>100.000000</td>\n",
              "      <td>1.250000e+10</td>\n",
              "      <td>490.000000</td>\n",
              "      <td>800.000000</td>\n",
              "      <td>7.000000</td>\n",
              "      <td>6.000000</td>\n",
              "      <td>1.000000</td>\n",
              "      <td>2.00000</td>\n",
              "      <td>3.000000</td>\n",
              "      <td>3.000000</td>\n",
              "      <td>16500.000000</td>\n",
              "    </tr>\n",
              "  </tbody>\n",
              "</table>\n",
              "</div>"
            ],
            "text/plain": [
              "               No         harga          LT  ...    carport     garasi       listrik\n",
              "count   96.000000  9.600000e+01   96.000000  ...  96.000000  96.000000     96.000000\n",
              "mean    51.562500  3.735459e+09  205.406250  ...   1.031250   0.187500   3797.916667\n",
              "std     28.853464  2.489633e+09  104.001982  ...   0.800699   0.488014   2468.836469\n",
              "min      1.000000  1.090000e+07   40.000000  ...   0.000000   0.000000   1300.000000\n",
              "25%     26.750000  1.950000e+09  127.500000  ...   0.000000   0.000000   2200.000000\n",
              "50%     52.500000  2.925000e+09  184.500000  ...   1.000000   0.000000   3500.000000\n",
              "75%     76.250000  5.362500e+09  266.750000  ...   2.000000   0.000000   4400.000000\n",
              "max    100.000000  1.250000e+10  490.000000  ...   3.000000   3.000000  16500.000000\n",
              "\n",
              "[8 rows x 11 columns]"
            ]
          },
          "metadata": {
            "tags": []
          },
          "execution_count": 32
        }
      ]
    },
    {
      "cell_type": "code",
      "metadata": {
        "colab": {
          "base_uri": "https://localhost:8080/",
          "height": 410
        },
        "id": "O6NYeTm19w8p",
        "outputId": "9f22ff85-1e13-4be6-a8f8-6d1fb3dc7a54"
      },
      "source": [
        "df_rumah2.describe(include='all')"
      ],
      "execution_count": 33,
      "outputs": [
        {
          "output_type": "execute_result",
          "data": {
            "text/html": [
              "<div>\n",
              "<style scoped>\n",
              "    .dataframe tbody tr th:only-of-type {\n",
              "        vertical-align: middle;\n",
              "    }\n",
              "\n",
              "    .dataframe tbody tr th {\n",
              "        vertical-align: top;\n",
              "    }\n",
              "\n",
              "    .dataframe thead th {\n",
              "        text-align: right;\n",
              "    }\n",
              "</style>\n",
              "<table border=\"1\" class=\"dataframe\">\n",
              "  <thead>\n",
              "    <tr style=\"text-align: right;\">\n",
              "      <th></th>\n",
              "      <th>No</th>\n",
              "      <th>harga</th>\n",
              "      <th>LT</th>\n",
              "      <th>LB</th>\n",
              "      <th>KT</th>\n",
              "      <th>KM</th>\n",
              "      <th>KTP</th>\n",
              "      <th>KMP</th>\n",
              "      <th>carport</th>\n",
              "      <th>garasi</th>\n",
              "      <th>listrik</th>\n",
              "      <th>surat</th>\n",
              "    </tr>\n",
              "  </thead>\n",
              "  <tbody>\n",
              "    <tr>\n",
              "      <th>count</th>\n",
              "      <td>96.000000</td>\n",
              "      <td>9.600000e+01</td>\n",
              "      <td>96.000000</td>\n",
              "      <td>96.000000</td>\n",
              "      <td>96.000000</td>\n",
              "      <td>96.000000</td>\n",
              "      <td>96.000000</td>\n",
              "      <td>96.00000</td>\n",
              "      <td>96.000000</td>\n",
              "      <td>96.000000</td>\n",
              "      <td>96.000000</td>\n",
              "      <td>96</td>\n",
              "    </tr>\n",
              "    <tr>\n",
              "      <th>unique</th>\n",
              "      <td>NaN</td>\n",
              "      <td>NaN</td>\n",
              "      <td>NaN</td>\n",
              "      <td>NaN</td>\n",
              "      <td>NaN</td>\n",
              "      <td>NaN</td>\n",
              "      <td>NaN</td>\n",
              "      <td>NaN</td>\n",
              "      <td>NaN</td>\n",
              "      <td>NaN</td>\n",
              "      <td>NaN</td>\n",
              "      <td>3</td>\n",
              "    </tr>\n",
              "    <tr>\n",
              "      <th>top</th>\n",
              "      <td>NaN</td>\n",
              "      <td>NaN</td>\n",
              "      <td>NaN</td>\n",
              "      <td>NaN</td>\n",
              "      <td>NaN</td>\n",
              "      <td>NaN</td>\n",
              "      <td>NaN</td>\n",
              "      <td>NaN</td>\n",
              "      <td>NaN</td>\n",
              "      <td>NaN</td>\n",
              "      <td>NaN</td>\n",
              "      <td>SHM</td>\n",
              "    </tr>\n",
              "    <tr>\n",
              "      <th>freq</th>\n",
              "      <td>NaN</td>\n",
              "      <td>NaN</td>\n",
              "      <td>NaN</td>\n",
              "      <td>NaN</td>\n",
              "      <td>NaN</td>\n",
              "      <td>NaN</td>\n",
              "      <td>NaN</td>\n",
              "      <td>NaN</td>\n",
              "      <td>NaN</td>\n",
              "      <td>NaN</td>\n",
              "      <td>NaN</td>\n",
              "      <td>50</td>\n",
              "    </tr>\n",
              "    <tr>\n",
              "      <th>mean</th>\n",
              "      <td>51.562500</td>\n",
              "      <td>3.735459e+09</td>\n",
              "      <td>205.406250</td>\n",
              "      <td>238.166667</td>\n",
              "      <td>3.531250</td>\n",
              "      <td>3.010417</td>\n",
              "      <td>0.645833</td>\n",
              "      <td>0.59375</td>\n",
              "      <td>1.031250</td>\n",
              "      <td>0.187500</td>\n",
              "      <td>3797.916667</td>\n",
              "      <td>NaN</td>\n",
              "    </tr>\n",
              "    <tr>\n",
              "      <th>std</th>\n",
              "      <td>28.853464</td>\n",
              "      <td>2.489633e+09</td>\n",
              "      <td>104.001982</td>\n",
              "      <td>149.251160</td>\n",
              "      <td>1.025497</td>\n",
              "      <td>1.119161</td>\n",
              "      <td>0.480771</td>\n",
              "      <td>0.51459</td>\n",
              "      <td>0.800699</td>\n",
              "      <td>0.488014</td>\n",
              "      <td>2468.836469</td>\n",
              "      <td>NaN</td>\n",
              "    </tr>\n",
              "    <tr>\n",
              "      <th>min</th>\n",
              "      <td>1.000000</td>\n",
              "      <td>1.090000e+07</td>\n",
              "      <td>40.000000</td>\n",
              "      <td>36.000000</td>\n",
              "      <td>1.000000</td>\n",
              "      <td>1.000000</td>\n",
              "      <td>0.000000</td>\n",
              "      <td>0.00000</td>\n",
              "      <td>0.000000</td>\n",
              "      <td>0.000000</td>\n",
              "      <td>1300.000000</td>\n",
              "      <td>NaN</td>\n",
              "    </tr>\n",
              "    <tr>\n",
              "      <th>25%</th>\n",
              "      <td>26.750000</td>\n",
              "      <td>1.950000e+09</td>\n",
              "      <td>127.500000</td>\n",
              "      <td>132.250000</td>\n",
              "      <td>3.000000</td>\n",
              "      <td>2.000000</td>\n",
              "      <td>0.000000</td>\n",
              "      <td>0.00000</td>\n",
              "      <td>0.000000</td>\n",
              "      <td>0.000000</td>\n",
              "      <td>2200.000000</td>\n",
              "      <td>NaN</td>\n",
              "    </tr>\n",
              "    <tr>\n",
              "      <th>50%</th>\n",
              "      <td>52.500000</td>\n",
              "      <td>2.925000e+09</td>\n",
              "      <td>184.500000</td>\n",
              "      <td>210.000000</td>\n",
              "      <td>3.500000</td>\n",
              "      <td>3.000000</td>\n",
              "      <td>1.000000</td>\n",
              "      <td>1.00000</td>\n",
              "      <td>1.000000</td>\n",
              "      <td>0.000000</td>\n",
              "      <td>3500.000000</td>\n",
              "      <td>NaN</td>\n",
              "    </tr>\n",
              "    <tr>\n",
              "      <th>75%</th>\n",
              "      <td>76.250000</td>\n",
              "      <td>5.362500e+09</td>\n",
              "      <td>266.750000</td>\n",
              "      <td>321.250000</td>\n",
              "      <td>4.000000</td>\n",
              "      <td>4.000000</td>\n",
              "      <td>1.000000</td>\n",
              "      <td>1.00000</td>\n",
              "      <td>2.000000</td>\n",
              "      <td>0.000000</td>\n",
              "      <td>4400.000000</td>\n",
              "      <td>NaN</td>\n",
              "    </tr>\n",
              "    <tr>\n",
              "      <th>max</th>\n",
              "      <td>100.000000</td>\n",
              "      <td>1.250000e+10</td>\n",
              "      <td>490.000000</td>\n",
              "      <td>800.000000</td>\n",
              "      <td>7.000000</td>\n",
              "      <td>6.000000</td>\n",
              "      <td>1.000000</td>\n",
              "      <td>2.00000</td>\n",
              "      <td>3.000000</td>\n",
              "      <td>3.000000</td>\n",
              "      <td>16500.000000</td>\n",
              "      <td>NaN</td>\n",
              "    </tr>\n",
              "  </tbody>\n",
              "</table>\n",
              "</div>"
            ],
            "text/plain": [
              "                No         harga          LT  ...     garasi       listrik  surat\n",
              "count    96.000000  9.600000e+01   96.000000  ...  96.000000     96.000000     96\n",
              "unique         NaN           NaN         NaN  ...        NaN           NaN      3\n",
              "top            NaN           NaN         NaN  ...        NaN           NaN    SHM\n",
              "freq           NaN           NaN         NaN  ...        NaN           NaN     50\n",
              "mean     51.562500  3.735459e+09  205.406250  ...   0.187500   3797.916667    NaN\n",
              "std      28.853464  2.489633e+09  104.001982  ...   0.488014   2468.836469    NaN\n",
              "min       1.000000  1.090000e+07   40.000000  ...   0.000000   1300.000000    NaN\n",
              "25%      26.750000  1.950000e+09  127.500000  ...   0.000000   2200.000000    NaN\n",
              "50%      52.500000  2.925000e+09  184.500000  ...   0.000000   3500.000000    NaN\n",
              "75%      76.250000  5.362500e+09  266.750000  ...   0.000000   4400.000000    NaN\n",
              "max     100.000000  1.250000e+10  490.000000  ...   3.000000  16500.000000    NaN\n",
              "\n",
              "[11 rows x 12 columns]"
            ]
          },
          "metadata": {
            "tags": []
          },
          "execution_count": 33
        }
      ]
    },
    {
      "cell_type": "markdown",
      "metadata": {
        "id": "4hQ8K1FdqRvl"
      },
      "source": [
        "#Visualisasi EDA"
      ]
    },
    {
      "cell_type": "markdown",
      "metadata": {
        "id": "7nCLUNOnqfF1"
      },
      "source": [
        "Hipotesis yang kami buat:\n",
        "1. lt dan lb mempengaruhi harga\n",
        "2. semakin besar daya listrik maka semakin mahal rumah\n",
        "3. semakin besar luas bangunan maka listrik semakin tinggi\n",
        "tidak\n",
        "4. ada tidaknya kamar pembantu membuat harga rumah semakin mahal\n",
        "5. rumah yang memiliki luas tanah besar akan memiliki garasi\n",
        "6. rumah yang memiliki luas tanah besar memiliki lebih banyak carport\n",
        "7. kategori surat SHM memiliki harga rumah lebih mahal\n",
        "8. rumah yang LT nya besar belum tentu memiliki lebih banyak kamar\n",
        "9. rumah yang LB besar memiliki lebih banyak kamar\n"
      ]
    },
    {
      "cell_type": "code",
      "metadata": {
        "id": "PmN2lQdXqWOO",
        "colab": {
          "base_uri": "https://localhost:8080/",
          "height": 279
        },
        "outputId": "0b5f88b9-efb5-461a-a175-c2e4df995c86"
      },
      "source": [
        "#terdapat korelasi antara Luas tanah dan harga\n",
        "p=sns.scatterplot(x=df_rumah2['harga'], y=df_rumah2['LT'])\n",
        "plt.savefig('harga_LT.png')"
      ],
      "execution_count": 34,
      "outputs": [
        {
          "output_type": "display_data",
          "data": {
            "image/png": "[encoded data removed]",
            "text/plain": [
              "<Figure size 432x288 with 1 Axes>"
            ]
          },
          "metadata": {
            "tags": [],
            "needs_background": "light"
          }
        }
      ]
    },
    {
      "cell_type": "code",
      "metadata": {
        "colab": {
          "base_uri": "https://localhost:8080/",
          "height": 279
        },
        "id": "2ULUpBmw_rhy",
        "outputId": "18eebde8-0537-415b-fee6-0543a7070a54"
      },
      "source": [
        "#Luas bangunan tidak memiliki korelasi yang lebih signifikan dibandingkan luas tanah dalam korelasinya terhadap harga\n",
        "p=sns.scatterplot(x=df_rumah2['harga'], y=df_rumah2['LB'])\n",
        "plt.savefig('harga_LB.png')"
      ],
      "execution_count": 35,
      "outputs": [
        {
          "output_type": "display_data",
          "data": {
            "image/png": "[encoded data removed]",
            "text/plain": [
              "<Figure size 432x288 with 1 Axes>"
            ]
          },
          "metadata": {
            "tags": [],
            "needs_background": "light"
          }
        }
      ]
    },
    {
      "cell_type": "code",
      "metadata": {
        "colab": {
          "base_uri": "https://localhost:8080/",
          "height": 279
        },
        "id": "IaDJAAe5_6zt",
        "outputId": "34fc348f-514e-4429-b387-423d2d9b47c6"
      },
      "source": [
        "#hipotesis : semakin besar daya listrik maka semakin mahal rumah\n",
        "#hasil : tidak terdapat korelasi antara daya listrik dan harga rumah\n",
        "p=sns.scatterplot(x=df_rumah2['harga'], y=df_rumah2['listrik'])"
      ],
      "execution_count": 36,
      "outputs": [
        {
          "output_type": "display_data",
          "data": {
            "image/png": "[encoded data removed]",
            "text/plain": [
              "<Figure size 432x288 with 1 Axes>"
            ]
          },
          "metadata": {
            "tags": [],
            "needs_background": "light"
          }
        }
      ]
    },
    {
      "cell_type": "code",
      "metadata": {
        "colab": {
          "base_uri": "https://localhost:8080/",
          "height": 279
        },
        "id": "Ct4NZFtsAn5v",
        "outputId": "45524c42-2149-442d-cae8-47059819fca0"
      },
      "source": [
        "#Hipotesis : semakin besar luas bangunan maka daya listrik semakin besar\n",
        "#hasil : tidak ada korelasi antara LB dan tingginya daya listrik\n",
        "p=sns.scatterplot(x=df_rumah2['LB'], y=df_rumah2['listrik'])"
      ],
      "execution_count": 37,
      "outputs": [
        {
          "output_type": "display_data",
          "data": {
            "image/png": "[encoded data removed]",
            "text/plain": [
              "<Figure size 432x288 with 1 Axes>"
            ]
          },
          "metadata": {
            "tags": [],
            "needs_background": "light"
          }
        }
      ]
    },
    {
      "cell_type": "code",
      "metadata": {
        "colab": {
          "base_uri": "https://localhost:8080/"
        },
        "id": "2Lpn0_dgBHau",
        "outputId": "0bb87cb0-a7ab-4457-a96e-b234e1fe7769"
      },
      "source": [
        "#ganti value dari KTP menjadi true dan false\n",
        "df_rumah2.loc[df_rumah2['KTP'] < 1, 'KTP'] = False\n",
        "df_rumah2.loc[df_rumah2['KTP'] > 0, 'KTP'] = True\n",
        "df_rumah.info()"
      ],
      "execution_count": 38,
      "outputs": [
        {
          "output_type": "stream",
          "text": [
            "<class 'pandas.core.frame.DataFrame'>\n",
            "RangeIndex: 100 entries, 0 to 99\n",
            "Data columns (total 12 columns):\n",
            " #   Column   Non-Null Count  Dtype   \n",
            "---  ------   --------------  -----   \n",
            " 0   No       100 non-null    int64   \n",
            " 1   harga    100 non-null    int64   \n",
            " 2   LT       100 non-null    int64   \n",
            " 3   LB       100 non-null    int64   \n",
            " 4   KT       100 non-null    int64   \n",
            " 5   KM       100 non-null    int64   \n",
            " 6   KTP      97 non-null     float64 \n",
            " 7   KMP      96 non-null     float64 \n",
            " 8   carport  85 non-null     float64 \n",
            " 9   garasi   84 non-null     float64 \n",
            " 10  listrik  90 non-null     float64 \n",
            " 11  surat    100 non-null    category\n",
            "dtypes: category(1), float64(5), int64(6)\n",
            "memory usage: 8.9 KB\n"
          ],
          "name": "stdout"
        },
        {
          "output_type": "stream",
          "text": [
            "/usr/local/lib/python3.7/dist-packages/pandas/core/indexing.py:1763: SettingWithCopyWarning: \n",
            "A value is trying to be set on a copy of a slice from a DataFrame.\n",
            "Try using .loc[row_indexer,col_indexer] = value instead\n",
            "\n",
            "See the caveats in the documentation: https://pandas.pydata.org/pandas-docs/stable/user_guide/indexing.html#returning-a-view-versus-a-copy\n",
            "  isetter(loc, value)\n"
          ],
          "name": "stderr"
        }
      ]
    },
    {
      "cell_type": "code",
      "metadata": {
        "colab": {
          "base_uri": "https://localhost:8080/",
          "height": 204
        },
        "id": "C1wx8ylbDg-5",
        "outputId": "43a9ac93-3332-4c94-fc6f-30c2e024ea4b"
      },
      "source": [
        "df_rumah2.sample(5)"
      ],
      "execution_count": 39,
      "outputs": [
        {
          "output_type": "execute_result",
          "data": {
            "text/html": [
              "<div>\n",
              "<style scoped>\n",
              "    .dataframe tbody tr th:only-of-type {\n",
              "        vertical-align: middle;\n",
              "    }\n",
              "\n",
              "    .dataframe tbody tr th {\n",
              "        vertical-align: top;\n",
              "    }\n",
              "\n",
              "    .dataframe thead th {\n",
              "        text-align: right;\n",
              "    }\n",
              "</style>\n",
              "<table border=\"1\" class=\"dataframe\">\n",
              "  <thead>\n",
              "    <tr style=\"text-align: right;\">\n",
              "      <th></th>\n",
              "      <th>No</th>\n",
              "      <th>harga</th>\n",
              "      <th>LT</th>\n",
              "      <th>LB</th>\n",
              "      <th>KT</th>\n",
              "      <th>KM</th>\n",
              "      <th>KTP</th>\n",
              "      <th>KMP</th>\n",
              "      <th>carport</th>\n",
              "      <th>garasi</th>\n",
              "      <th>listrik</th>\n",
              "      <th>surat</th>\n",
              "    </tr>\n",
              "  </thead>\n",
              "  <tbody>\n",
              "    <tr>\n",
              "      <th>28</th>\n",
              "      <td>29</td>\n",
              "      <td>2500000000</td>\n",
              "      <td>200</td>\n",
              "      <td>250</td>\n",
              "      <td>3</td>\n",
              "      <td>2</td>\n",
              "      <td>True</td>\n",
              "      <td>0</td>\n",
              "      <td>1</td>\n",
              "      <td>0</td>\n",
              "      <td>3300</td>\n",
              "      <td>SHM</td>\n",
              "    </tr>\n",
              "    <tr>\n",
              "      <th>66</th>\n",
              "      <td>67</td>\n",
              "      <td>6000000000</td>\n",
              "      <td>390</td>\n",
              "      <td>340</td>\n",
              "      <td>4</td>\n",
              "      <td>3</td>\n",
              "      <td>True</td>\n",
              "      <td>1</td>\n",
              "      <td>1</td>\n",
              "      <td>0</td>\n",
              "      <td>2200</td>\n",
              "      <td>SHM</td>\n",
              "    </tr>\n",
              "    <tr>\n",
              "      <th>9</th>\n",
              "      <td>10</td>\n",
              "      <td>1400000000</td>\n",
              "      <td>119</td>\n",
              "      <td>63</td>\n",
              "      <td>2</td>\n",
              "      <td>2</td>\n",
              "      <td>True</td>\n",
              "      <td>0</td>\n",
              "      <td>1</td>\n",
              "      <td>0</td>\n",
              "      <td>2200</td>\n",
              "      <td>SHM</td>\n",
              "    </tr>\n",
              "    <tr>\n",
              "      <th>5</th>\n",
              "      <td>6</td>\n",
              "      <td>389000000</td>\n",
              "      <td>72</td>\n",
              "      <td>36</td>\n",
              "      <td>2</td>\n",
              "      <td>1</td>\n",
              "      <td>False</td>\n",
              "      <td>0</td>\n",
              "      <td>1</td>\n",
              "      <td>0</td>\n",
              "      <td>1300</td>\n",
              "      <td>HGB</td>\n",
              "    </tr>\n",
              "    <tr>\n",
              "      <th>68</th>\n",
              "      <td>69</td>\n",
              "      <td>6100000000</td>\n",
              "      <td>300</td>\n",
              "      <td>300</td>\n",
              "      <td>4</td>\n",
              "      <td>4</td>\n",
              "      <td>False</td>\n",
              "      <td>0</td>\n",
              "      <td>0</td>\n",
              "      <td>0</td>\n",
              "      <td>4400</td>\n",
              "      <td>PPJB</td>\n",
              "    </tr>\n",
              "  </tbody>\n",
              "</table>\n",
              "</div>"
            ],
            "text/plain": [
              "    No       harga   LT   LB  KT  ...  KMP carport  garasi  listrik  surat\n",
              "28  29  2500000000  200  250   3  ...    0       1       0     3300    SHM\n",
              "66  67  6000000000  390  340   4  ...    1       1       0     2200    SHM\n",
              "9   10  1400000000  119   63   2  ...    0       1       0     2200    SHM\n",
              "5    6   389000000   72   36   2  ...    0       1       0     1300    HGB\n",
              "68  69  6100000000  300  300   4  ...    0       0       0     4400   PPJB\n",
              "\n",
              "[5 rows x 12 columns]"
            ]
          },
          "metadata": {
            "tags": []
          },
          "execution_count": 39
        }
      ]
    },
    {
      "cell_type": "code",
      "metadata": {
        "colab": {
          "base_uri": "https://localhost:8080/",
          "height": 400
        },
        "id": "iEUYnntgDklG",
        "outputId": "ae92cfe7-8bdc-47c4-e7cd-76cac42df9a7"
      },
      "source": [
        "#Hipotesis : ada tidaknya kamar pembantu membuat harga rumah semakin mahal\n",
        "#hasil : ada tidaknya kamar pembantu tidak terlalu mempengaruhi harga rumah\n",
        "sns.catplot(x='KTP', y='harga', data=df_rumah2)"
      ],
      "execution_count": 40,
      "outputs": [
        {
          "output_type": "execute_result",
          "data": {
            "text/plain": [
              "<seaborn.axisgrid.FacetGrid at 0x7f2e6c5dc810>"
            ]
          },
          "metadata": {
            "tags": []
          },
          "execution_count": 40
        },
        {
          "output_type": "display_data",
          "data": {
            "image/png": "[encoded data removed]",
            "text/plain": [
              "<Figure size 360x360 with 1 Axes>"
            ]
          },
          "metadata": {
            "tags": [],
            "needs_background": "light"
          }
        }
      ]
    },
    {
      "cell_type": "code",
      "metadata": {
        "colab": {
          "base_uri": "https://localhost:8080/"
        },
        "id": "OIHhZ801G7_t",
        "outputId": "016b1881-969c-4b8c-d9df-2d2213735652"
      },
      "source": [
        "gab= df_rumah2['garasi']+df_rumah2['carport']\n",
        "gab"
      ],
      "execution_count": 46,
      "outputs": [
        {
          "output_type": "execute_result",
          "data": {
            "text/plain": [
              "0     2\n",
              "1     1\n",
              "2     0\n",
              "4     0\n",
              "5     1\n",
              "     ..\n",
              "95    0\n",
              "96    0\n",
              "97    3\n",
              "98    2\n",
              "99    4\n",
              "Length: 96, dtype: object"
            ]
          },
          "metadata": {
            "tags": []
          },
          "execution_count": 46
        }
      ]
    },
    {
      "cell_type": "code",
      "metadata": {
        "colab": {
          "base_uri": "https://localhost:8080/",
          "height": 428
        },
        "id": "Wt9kYUBuHNfx",
        "outputId": "4788972f-1085-4aa5-a56d-8cb92e23f24e"
      },
      "source": [
        "#Hipotesis : rumah yang memiliki luas tanah besar akan memiliki garasi dan carport\n",
        "df_rumah2['parkiran']= gab\n",
        "df_rumah2.loc[df_rumah2['parkiran'] < 1, 'parkiran'] = False\n",
        "df_rumah2.loc[df_rumah2['parkiran'] > 0, 'parkiran'] = True\n",
        "df_rumah2.head()"
      ],
      "execution_count": 51,
      "outputs": [
        {
          "output_type": "stream",
          "text": [
            "/usr/local/lib/python3.7/dist-packages/ipykernel_launcher.py:3: SettingWithCopyWarning: \n",
            "A value is trying to be set on a copy of a slice from a DataFrame.\n",
            "Try using .loc[row_indexer,col_indexer] = value instead\n",
            "\n",
            "See the caveats in the documentation: https://pandas.pydata.org/pandas-docs/stable/user_guide/indexing.html#returning-a-view-versus-a-copy\n",
            "  This is separate from the ipykernel package so we can avoid doing imports until\n",
            "/usr/local/lib/python3.7/dist-packages/pandas/core/indexing.py:1763: SettingWithCopyWarning: \n",
            "A value is trying to be set on a copy of a slice from a DataFrame.\n",
            "Try using .loc[row_indexer,col_indexer] = value instead\n",
            "\n",
            "See the caveats in the documentation: https://pandas.pydata.org/pandas-docs/stable/user_guide/indexing.html#returning-a-view-versus-a-copy\n",
            "  isetter(loc, value)\n"
          ],
          "name": "stderr"
        },
        {
          "output_type": "execute_result",
          "data": {
            "text/html": [
              "<div>\n",
              "<style scoped>\n",
              "    .dataframe tbody tr th:only-of-type {\n",
              "        vertical-align: middle;\n",
              "    }\n",
              "\n",
              "    .dataframe tbody tr th {\n",
              "        vertical-align: top;\n",
              "    }\n",
              "\n",
              "    .dataframe thead th {\n",
              "        text-align: right;\n",
              "    }\n",
              "</style>\n",
              "<table border=\"1\" class=\"dataframe\">\n",
              "  <thead>\n",
              "    <tr style=\"text-align: right;\">\n",
              "      <th></th>\n",
              "      <th>No</th>\n",
              "      <th>harga</th>\n",
              "      <th>LT</th>\n",
              "      <th>LB</th>\n",
              "      <th>KT</th>\n",
              "      <th>KM</th>\n",
              "      <th>KTP</th>\n",
              "      <th>KMP</th>\n",
              "      <th>carport</th>\n",
              "      <th>garasi</th>\n",
              "      <th>listrik</th>\n",
              "      <th>surat</th>\n",
              "      <th>parkiran</th>\n",
              "    </tr>\n",
              "  </thead>\n",
              "  <tbody>\n",
              "    <tr>\n",
              "      <th>0</th>\n",
              "      <td>1</td>\n",
              "      <td>2800000000</td>\n",
              "      <td>170</td>\n",
              "      <td>210</td>\n",
              "      <td>5</td>\n",
              "      <td>3</td>\n",
              "      <td>True</td>\n",
              "      <td>1</td>\n",
              "      <td>2</td>\n",
              "      <td>False</td>\n",
              "      <td>3500</td>\n",
              "      <td>HGB</td>\n",
              "      <td>True</td>\n",
              "    </tr>\n",
              "    <tr>\n",
              "      <th>1</th>\n",
              "      <td>2</td>\n",
              "      <td>2550000000</td>\n",
              "      <td>210</td>\n",
              "      <td>160</td>\n",
              "      <td>4</td>\n",
              "      <td>3</td>\n",
              "      <td>True</td>\n",
              "      <td>1</td>\n",
              "      <td>1</td>\n",
              "      <td>False</td>\n",
              "      <td>3500</td>\n",
              "      <td>HGB</td>\n",
              "      <td>True</td>\n",
              "    </tr>\n",
              "    <tr>\n",
              "      <th>2</th>\n",
              "      <td>3</td>\n",
              "      <td>2000000000</td>\n",
              "      <td>150</td>\n",
              "      <td>160</td>\n",
              "      <td>4</td>\n",
              "      <td>3</td>\n",
              "      <td>True</td>\n",
              "      <td>1</td>\n",
              "      <td>0</td>\n",
              "      <td>False</td>\n",
              "      <td>2200</td>\n",
              "      <td>SHM</td>\n",
              "      <td>False</td>\n",
              "    </tr>\n",
              "    <tr>\n",
              "      <th>4</th>\n",
              "      <td>5</td>\n",
              "      <td>10900000</td>\n",
              "      <td>120</td>\n",
              "      <td>400</td>\n",
              "      <td>3</td>\n",
              "      <td>3</td>\n",
              "      <td>True</td>\n",
              "      <td>1</td>\n",
              "      <td>0</td>\n",
              "      <td>False</td>\n",
              "      <td>13200</td>\n",
              "      <td>SHM</td>\n",
              "      <td>False</td>\n",
              "    </tr>\n",
              "    <tr>\n",
              "      <th>5</th>\n",
              "      <td>6</td>\n",
              "      <td>389000000</td>\n",
              "      <td>72</td>\n",
              "      <td>36</td>\n",
              "      <td>2</td>\n",
              "      <td>1</td>\n",
              "      <td>False</td>\n",
              "      <td>0</td>\n",
              "      <td>1</td>\n",
              "      <td>False</td>\n",
              "      <td>1300</td>\n",
              "      <td>HGB</td>\n",
              "      <td>True</td>\n",
              "    </tr>\n",
              "  </tbody>\n",
              "</table>\n",
              "</div>"
            ],
            "text/plain": [
              "   No       harga   LT   LB  KT  ...  carport garasi  listrik  surat parkiran\n",
              "0   1  2800000000  170  210   5  ...        2  False     3500    HGB     True\n",
              "1   2  2550000000  210  160   4  ...        1  False     3500    HGB     True\n",
              "2   3  2000000000  150  160   4  ...        0  False     2200    SHM    False\n",
              "4   5    10900000  120  400   3  ...        0  False    13200    SHM    False\n",
              "5   6   389000000   72   36   2  ...        1  False     1300    HGB     True\n",
              "\n",
              "[5 rows x 13 columns]"
            ]
          },
          "metadata": {
            "tags": []
          },
          "execution_count": 51
        }
      ]
    },
    {
      "cell_type": "code",
      "metadata": {
        "colab": {
          "base_uri": "https://localhost:8080/",
          "height": 400
        },
        "id": "tVuRbjiaID7O",
        "outputId": "f53c4267-c2c6-46a5-e3f0-ddb6b3316114"
      },
      "source": [
        "#Hipotesis : rumah yang memiliki luas tanah besar akan memiliki garasi dan carport\n",
        "#hasil : semakin besar luas tanah maka semakin banyak garasi ataupun carposrt\n",
        "sns.catplot(x='parkiran', y='LT', data=df_rumah2)"
      ],
      "execution_count": 52,
      "outputs": [
        {
          "output_type": "execute_result",
          "data": {
            "text/plain": [
              "<seaborn.axisgrid.FacetGrid at 0x7f2e47bdbfd0>"
            ]
          },
          "metadata": {
            "tags": []
          },
          "execution_count": 52
        },
        {
          "output_type": "display_data",
          "data": {
            "image/png": "[encoded data removed]",
            "text/plain": [
              "<Figure size 360x360 with 1 Axes>"
            ]
          },
          "metadata": {
            "tags": [],
            "needs_background": "light"
          }
        }
      ]
    },
    {
      "cell_type": "code",
      "metadata": {
        "colab": {
          "base_uri": "https://localhost:8080/"
        },
        "id": "Mv5Ib9RDEeJU",
        "outputId": "7d13abd2-3217-4b8d-8a50-7911dbae37d4"
      },
      "source": [
        "#hipotesis : rumah yang memiliki luas tanah besar akan memiliki garasi\n",
        "df_rumah2.loc[df_rumah2['garasi'] < 1, 'garasi'] = False\n",
        "df_rumah2.loc[df_rumah2['garasi'] > 0, 'garasi'] = True\n",
        "df_rumah2.info()"
      ],
      "execution_count": 42,
      "outputs": [
        {
          "output_type": "stream",
          "text": [
            "<class 'pandas.core.frame.DataFrame'>\n",
            "Int64Index: 96 entries, 0 to 99\n",
            "Data columns (total 12 columns):\n",
            " #   Column   Non-Null Count  Dtype   \n",
            "---  ------   --------------  -----   \n",
            " 0   No       96 non-null     int64   \n",
            " 1   harga    96 non-null     int64   \n",
            " 2   LT       96 non-null     int64   \n",
            " 3   LB       96 non-null     int64   \n",
            " 4   KT       96 non-null     int64   \n",
            " 5   KM       96 non-null     int64   \n",
            " 6   KTP      96 non-null     object  \n",
            " 7   KMP      96 non-null     int64   \n",
            " 8   carport  96 non-null     int64   \n",
            " 9   garasi   96 non-null     object  \n",
            " 10  listrik  96 non-null     int64   \n",
            " 11  surat    96 non-null     category\n",
            "dtypes: category(1), int64(9), object(2)\n",
            "memory usage: 11.7+ KB\n"
          ],
          "name": "stdout"
        },
        {
          "output_type": "stream",
          "text": [
            "/usr/local/lib/python3.7/dist-packages/pandas/core/indexing.py:1763: SettingWithCopyWarning: \n",
            "A value is trying to be set on a copy of a slice from a DataFrame.\n",
            "Try using .loc[row_indexer,col_indexer] = value instead\n",
            "\n",
            "See the caveats in the documentation: https://pandas.pydata.org/pandas-docs/stable/user_guide/indexing.html#returning-a-view-versus-a-copy\n",
            "  isetter(loc, value)\n"
          ],
          "name": "stderr"
        }
      ]
    },
    {
      "cell_type": "code",
      "metadata": {
        "colab": {
          "base_uri": "https://localhost:8080/",
          "height": 204
        },
        "id": "pWNohBszFtxF",
        "outputId": "d6614eab-a377-4565-f433-d75a948e5753"
      },
      "source": [
        "df_rumah2.head()"
      ],
      "execution_count": 43,
      "outputs": [
        {
          "output_type": "execute_result",
          "data": {
            "text/html": [
              "<div>\n",
              "<style scoped>\n",
              "    .dataframe tbody tr th:only-of-type {\n",
              "        vertical-align: middle;\n",
              "    }\n",
              "\n",
              "    .dataframe tbody tr th {\n",
              "        vertical-align: top;\n",
              "    }\n",
              "\n",
              "    .dataframe thead th {\n",
              "        text-align: right;\n",
              "    }\n",
              "</style>\n",
              "<table border=\"1\" class=\"dataframe\">\n",
              "  <thead>\n",
              "    <tr style=\"text-align: right;\">\n",
              "      <th></th>\n",
              "      <th>No</th>\n",
              "      <th>harga</th>\n",
              "      <th>LT</th>\n",
              "      <th>LB</th>\n",
              "      <th>KT</th>\n",
              "      <th>KM</th>\n",
              "      <th>KTP</th>\n",
              "      <th>KMP</th>\n",
              "      <th>carport</th>\n",
              "      <th>garasi</th>\n",
              "      <th>listrik</th>\n",
              "      <th>surat</th>\n",
              "    </tr>\n",
              "  </thead>\n",
              "  <tbody>\n",
              "    <tr>\n",
              "      <th>0</th>\n",
              "      <td>1</td>\n",
              "      <td>2800000000</td>\n",
              "      <td>170</td>\n",
              "      <td>210</td>\n",
              "      <td>5</td>\n",
              "      <td>3</td>\n",
              "      <td>True</td>\n",
              "      <td>1</td>\n",
              "      <td>2</td>\n",
              "      <td>False</td>\n",
              "      <td>3500</td>\n",
              "      <td>HGB</td>\n",
              "    </tr>\n",
              "    <tr>\n",
              "      <th>1</th>\n",
              "      <td>2</td>\n",
              "      <td>2550000000</td>\n",
              "      <td>210</td>\n",
              "      <td>160</td>\n",
              "      <td>4</td>\n",
              "      <td>3</td>\n",
              "      <td>True</td>\n",
              "      <td>1</td>\n",
              "      <td>1</td>\n",
              "      <td>False</td>\n",
              "      <td>3500</td>\n",
              "      <td>HGB</td>\n",
              "    </tr>\n",
              "    <tr>\n",
              "      <th>2</th>\n",
              "      <td>3</td>\n",
              "      <td>2000000000</td>\n",
              "      <td>150</td>\n",
              "      <td>160</td>\n",
              "      <td>4</td>\n",
              "      <td>3</td>\n",
              "      <td>True</td>\n",
              "      <td>1</td>\n",
              "      <td>0</td>\n",
              "      <td>False</td>\n",
              "      <td>2200</td>\n",
              "      <td>SHM</td>\n",
              "    </tr>\n",
              "    <tr>\n",
              "      <th>4</th>\n",
              "      <td>5</td>\n",
              "      <td>10900000</td>\n",
              "      <td>120</td>\n",
              "      <td>400</td>\n",
              "      <td>3</td>\n",
              "      <td>3</td>\n",
              "      <td>True</td>\n",
              "      <td>1</td>\n",
              "      <td>0</td>\n",
              "      <td>False</td>\n",
              "      <td>13200</td>\n",
              "      <td>SHM</td>\n",
              "    </tr>\n",
              "    <tr>\n",
              "      <th>5</th>\n",
              "      <td>6</td>\n",
              "      <td>389000000</td>\n",
              "      <td>72</td>\n",
              "      <td>36</td>\n",
              "      <td>2</td>\n",
              "      <td>1</td>\n",
              "      <td>False</td>\n",
              "      <td>0</td>\n",
              "      <td>1</td>\n",
              "      <td>False</td>\n",
              "      <td>1300</td>\n",
              "      <td>HGB</td>\n",
              "    </tr>\n",
              "  </tbody>\n",
              "</table>\n",
              "</div>"
            ],
            "text/plain": [
              "   No       harga   LT   LB  KT  KM    KTP  KMP  carport garasi  listrik surat\n",
              "0   1  2800000000  170  210   5   3   True    1        2  False     3500   HGB\n",
              "1   2  2550000000  210  160   4   3   True    1        1  False     3500   HGB\n",
              "2   3  2000000000  150  160   4   3   True    1        0  False     2200   SHM\n",
              "4   5    10900000  120  400   3   3   True    1        0  False    13200   SHM\n",
              "5   6   389000000   72   36   2   1  False    0        1  False     1300   HGB"
            ]
          },
          "metadata": {
            "tags": []
          },
          "execution_count": 43
        }
      ]
    },
    {
      "cell_type": "code",
      "metadata": {
        "colab": {
          "base_uri": "https://localhost:8080/",
          "height": 400
        },
        "id": "f__aHp59FzVI",
        "outputId": "6f1074f2-371c-4938-9b9b-fc71b36d0b84"
      },
      "source": [
        "#Hipotesis : rumah yang memiliki luas tanah besar akan memiliki garasi\n",
        "#hasil : tidak ada korelasi antara garasi dan luas tanah\n",
        "sns.catplot(x='garasi', y='LT', data=df_rumah2)"
      ],
      "execution_count": 44,
      "outputs": [
        {
          "output_type": "execute_result",
          "data": {
            "text/plain": [
              "<seaborn.axisgrid.FacetGrid at 0x7f2e4bfa6510>"
            ]
          },
          "metadata": {
            "tags": []
          },
          "execution_count": 44
        },
        {
          "output_type": "display_data",
          "data": {
            "image/png": "[encoded data removed]",
            "text/plain": [
              "<Figure size 360x360 with 1 Axes>"
            ]
          },
          "metadata": {
            "tags": [],
            "needs_background": "light"
          }
        }
      ]
    },
    {
      "cell_type": "code",
      "metadata": {
        "colab": {
          "base_uri": "https://localhost:8080/",
          "height": 400
        },
        "id": "DKl1GTjEIuv7",
        "outputId": "08574117-4e0a-4aae-9891-c60c1e58bc35"
      },
      "source": [
        "#Hipotesis : kategori surat SHM memiliki harga rumah lebih mahal\n",
        "#hasil : rumah yang memiliki harga mahal (outlier atas) memiliki surat tanah SHM\n",
        "sns.catplot(x='surat', y='harga', data=df_rumah3)"
      ],
      "execution_count": 57,
      "outputs": [
        {
          "output_type": "execute_result",
          "data": {
            "text/plain": [
              "<seaborn.axisgrid.FacetGrid at 0x7f2e47437e10>"
            ]
          },
          "metadata": {
            "tags": []
          },
          "execution_count": 57
        },
        {
          "output_type": "display_data",
          "data": {
            "image/png": "[encoded data removed]",
            "text/plain": [
              "<Figure size 360x360 with 1 Axes>"
            ]
          },
          "metadata": {
            "tags": [],
            "needs_background": "light"
          }
        }
      ]
    },
    {
      "cell_type": "code",
      "metadata": {
        "colab": {
          "base_uri": "https://localhost:8080/",
          "height": 400
        },
        "id": "lSQyQELvKYfR",
        "outputId": "08a4bb76-3dc3-4242-900f-90b130908875"
      },
      "source": [
        "#Hipotesis : kategori surat SHM memiliki harga rumah lebih mahal\n",
        "#hasil : rumah yang memiliki surat SHM dan RGB memiliki kemungkinan harga rumah lebih mahal dibandingkan PPIB\n",
        "sns.catplot(x='surat', y='harga', data=df_rumah2)"
      ],
      "execution_count": 58,
      "outputs": [
        {
          "output_type": "execute_result",
          "data": {
            "text/plain": [
              "<seaborn.axisgrid.FacetGrid at 0x7f2e47446a90>"
            ]
          },
          "metadata": {
            "tags": []
          },
          "execution_count": 58
        },
        {
          "output_type": "display_data",
          "data": {
            "image/png": "[encoded data removed]",
            "text/plain": [
              "<Figure size 360x360 with 1 Axes>"
            ]
          },
          "metadata": {
            "tags": [],
            "needs_background": "light"
          }
        }
      ]
    },
    {
      "cell_type": "code",
      "metadata": {
        "colab": {
          "base_uri": "https://localhost:8080/",
          "height": 279
        },
        "id": "1VSE884XKqhB",
        "outputId": "765db76f-e4d9-4908-e0fa-bb28b9dcc540"
      },
      "source": [
        "#Hipotesis : rumah yang LB nya besar belum tentu memiliki lebih banyak kamar\n",
        "#Hasil : Semakin besar luas bangunan maka kemungkinan kamar tidur akan semakin banyak\n",
        "p=sns.scatterplot(x=df_rumah2['KT'], y=df_rumah2['LB'])"
      ],
      "execution_count": 62,
      "outputs": [
        {
          "output_type": "display_data",
          "data": {
            "image/png": "[encoded data removed]",
            "text/plain": [
              "<Figure size 432x288 with 1 Axes>"
            ]
          },
          "metadata": {
            "tags": [],
            "needs_background": "light"
          }
        }
      ]
    },
    {
      "cell_type": "code",
      "metadata": {
        "id": "kb9Jk2egLnG9"
      },
      "source": [
        ""
      ],
      "execution_count": null,
      "outputs": []
    },
    {
      "cell_type": "markdown",
      "metadata": {
        "id": "-__hrk6x-DQ7"
      },
      "source": [
        "#Pengolahan variabel Kategorik: Dummy Variable"
      ]
    },
    {
      "cell_type": "code",
      "metadata": {
        "id": "YCvDtzmA-EaR",
        "colab": {
          "base_uri": "https://localhost:8080/",
          "height": 204
        },
        "outputId": "f63b708c-cf09-4e52-962f-88d807e9c667"
      },
      "source": [
        "df = pd.get_dummies(df_rumah2['surat'], prefix='Surat')\n",
        "df.head()"
      ],
      "execution_count": 63,
      "outputs": [
        {
          "output_type": "execute_result",
          "data": {
            "text/html": [
              "<div>\n",
              "<style scoped>\n",
              "    .dataframe tbody tr th:only-of-type {\n",
              "        vertical-align: middle;\n",
              "    }\n",
              "\n",
              "    .dataframe tbody tr th {\n",
              "        vertical-align: top;\n",
              "    }\n",
              "\n",
              "    .dataframe thead th {\n",
              "        text-align: right;\n",
              "    }\n",
              "</style>\n",
              "<table border=\"1\" class=\"dataframe\">\n",
              "  <thead>\n",
              "    <tr style=\"text-align: right;\">\n",
              "      <th></th>\n",
              "      <th>Surat_HGB</th>\n",
              "      <th>Surat_PPJB</th>\n",
              "      <th>Surat_SHM</th>\n",
              "    </tr>\n",
              "  </thead>\n",
              "  <tbody>\n",
              "    <tr>\n",
              "      <th>0</th>\n",
              "      <td>1</td>\n",
              "      <td>0</td>\n",
              "      <td>0</td>\n",
              "    </tr>\n",
              "    <tr>\n",
              "      <th>1</th>\n",
              "      <td>1</td>\n",
              "      <td>0</td>\n",
              "      <td>0</td>\n",
              "    </tr>\n",
              "    <tr>\n",
              "      <th>2</th>\n",
              "      <td>0</td>\n",
              "      <td>0</td>\n",
              "      <td>1</td>\n",
              "    </tr>\n",
              "    <tr>\n",
              "      <th>4</th>\n",
              "      <td>0</td>\n",
              "      <td>0</td>\n",
              "      <td>1</td>\n",
              "    </tr>\n",
              "    <tr>\n",
              "      <th>5</th>\n",
              "      <td>1</td>\n",
              "      <td>0</td>\n",
              "      <td>0</td>\n",
              "    </tr>\n",
              "  </tbody>\n",
              "</table>\n",
              "</div>"
            ],
            "text/plain": [
              "   Surat_HGB  Surat_PPJB  Surat_SHM\n",
              "0          1           0          0\n",
              "1          1           0          0\n",
              "2          0           0          1\n",
              "4          0           0          1\n",
              "5          1           0          0"
            ]
          },
          "metadata": {
            "tags": []
          },
          "execution_count": 63
        }
      ]
    },
    {
      "cell_type": "markdown",
      "metadata": {
        "id": "W5-K34ok-GI1"
      },
      "source": [
        "#Kesimpulan"
      ]
    },
    {
      "cell_type": "markdown",
      "metadata": {
        "id": "2DQbkrtQNdtA"
      },
      "source": [
        "1. Lebih baik untuk membeli rumah yang memiliki surat SHM ataupun HGB. Surat tanah SHM memiliki kemungkinan harga rumah lebih mahal.\n",
        "2. Ada tidaknya garasi tidak dipengaruhi luas tanah maka pembeli tidak harus mencari rumah dengan luas tanah besar untuk memiliki garasi\n",
        "3. Pembeli harus membandingkan daya listrik dan harga rumah saat ingin membeli karena harga rumah tidak berhubungan dengan daya listrik"
      ]
    }
  ]
}